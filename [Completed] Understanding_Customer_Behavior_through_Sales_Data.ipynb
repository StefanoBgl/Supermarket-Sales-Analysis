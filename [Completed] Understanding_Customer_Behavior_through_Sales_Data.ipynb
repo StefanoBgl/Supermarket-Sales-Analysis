{
 "cells": [
  {
   "cell_type": "markdown",
   "metadata": {
    "id": "8M6kgL1UtmkU"
   },
   "source": [
    "# Understanding Customer Behavior through Sales Data"
   ]
  },
  {
   "cell_type": "markdown",
   "metadata": {
    "id": "bA2oRbMbZIJ7"
   },
   "source": [
    "This project involves statistical analysis of the Supermarket Sales dataset to extract insights into customer behavior. Exploratory data analysis and K-Means clustering techniques are applied to identify distinct consumer segments, providing valuable information to support strategic business decisions.\n",
    "\n",
    "The Supermarket Sales dataset includes the following key columns:"
   ]
  },
  {
   "cell_type": "markdown",
   "metadata": {
    "id": "K9zZGATcZPby"
   },
   "source": [
    "* *Invoice ID* – Unique identifier for each transaction.\n",
    "\n",
    "* *Branch* – Store branch code (A, B, or C).\n",
    "\n",
    "* *City* – City where the store is located (e.g., Yangon, Naypyitaw, Mandalay).\n",
    "\n",
    "* *Customer type* – Type of customer: Member (loyalty program) or Normal (walk-in customer).\n",
    "\n",
    "* *Gender* – Gender of the customer (Male or Female).\n",
    "\n",
    "* *Product line* – Category of the product purchased (e.g., Health & Beauty, Food & Beverages, Electronic Accessories, etc.).\n",
    "\n",
    "* *Unit price* – Price per unit of the product.\n",
    "\n",
    "* *Quantity* – Number of items purchased in the transaction.\n",
    "\n",
    "* *Tax 5%* – 5% tax applied to the total before tax.\n",
    "\n",
    "* *Sales* – Total amount paid by the customer (includes tax).\n",
    "\n",
    "* *Date* – Date when the transaction took place.\n",
    "\n",
    "* *Time* – Time when the transaction occurred.\n",
    "\n",
    "* *Payment* – Payment method used (e.g., Cash, Credit Card, Ewallet).\n",
    "\n",
    "* *COGS* – Cost of Goods Sold; subtotal before tax (raw cost of the products)\n",
    "\n",
    "* *Gross margin percentage* – Fixed margin percentage on COGS (in this dataset, it’s consistently 4.7619%).\n",
    "\n",
    "* *Gross income* – Profit earned from the transaction.\n",
    "\n",
    "* *Rating* – Customer satisfaction rating, ranging from 4 to 10."
   ]
  },
  {
   "cell_type": "markdown",
   "metadata": {
    "id": "YKtzEjlxkUvt"
   },
   "source": [
    "\n",
    "\n",
    "---\n",
    "\n"
   ]
  },
  {
   "cell_type": "markdown",
   "metadata": {
    "id": "5xdV0QrXCMof"
   },
   "source": [
    "## Libraries"
   ]
  },
  {
   "cell_type": "code",
   "execution_count": 136,
   "metadata": {
    "id": "JtGvYkBykVgR"
   },
   "outputs": [],
   "source": [
    "import pandas as pd\n",
    "import matplotlib.pyplot as plt\n",
    "import seaborn as sns\n",
    "from sklearn.cluster import KMeans\n",
    "from sklearn.preprocessing import MinMaxScaler\n",
    "import warnings\n",
    "#from helper import assign_time_period, find_outliers"
   ]
  },
  {
   "cell_type": "markdown",
   "metadata": {
    "id": "2cRHPkI4wvG8"
   },
   "source": [
    "## Import dataset"
   ]
  },
  {
   "cell_type": "code",
   "execution_count": 138,
   "metadata": {
    "id": "K9dSUprIYRKL"
   },
   "outputs": [],
   "source": [
    "# from google.colab import files\n",
    "# uploaded = files.upload()"
   ]
  },
  {
   "cell_type": "code",
   "execution_count": 139,
   "metadata": {
    "colab": {
     "base_uri": "https://localhost:8080/",
     "height": 817
    },
    "id": "VPIaNHTmvVSI",
    "outputId": "df25d91a-dad1-4425-f4ec-073f957c7106"
   },
   "outputs": [
    {
     "name": "stdout",
     "output_type": "stream",
     "text": [
      "Rows, Columns: (1000, 17)\n",
      "\n",
      "<class 'pandas.core.frame.DataFrame'>\n",
      "RangeIndex: 1000 entries, 0 to 999\n",
      "Data columns (total 17 columns):\n",
      " #   Column                   Non-Null Count  Dtype  \n",
      "---  ------                   --------------  -----  \n",
      " 0   Invoice ID               1000 non-null   object \n",
      " 1   Branch                   1000 non-null   object \n",
      " 2   City                     1000 non-null   object \n",
      " 3   Customer type            1000 non-null   object \n",
      " 4   Gender                   1000 non-null   object \n",
      " 5   Product line             1000 non-null   object \n",
      " 6   Unit price               1000 non-null   float64\n",
      " 7   Quantity                 1000 non-null   int64  \n",
      " 8   Tax 5%                   1000 non-null   float64\n",
      " 9   Sales                    1000 non-null   float64\n",
      " 10  Date                     1000 non-null   object \n",
      " 11  Time                     1000 non-null   object \n",
      " 12  Payment                  1000 non-null   object \n",
      " 13  cogs                     1000 non-null   float64\n",
      " 14  gross margin percentage  1000 non-null   float64\n",
      " 15  gross income             1000 non-null   float64\n",
      " 16  Rating                   1000 non-null   float64\n",
      "dtypes: float64(7), int64(1), object(9)\n",
      "memory usage: 132.9+ KB\n",
      "None\n"
     ]
    },
    {
     "data": {
      "text/html": [
       "<div style='overflow-x: auto'><table border=\"1\" class=\"dataframe\">\n",
       "  <thead>\n",
       "    <tr style=\"text-align: right;\">\n",
       "      <th></th>\n",
       "      <th>Invoice ID</th>\n",
       "      <th>Branch</th>\n",
       "      <th>City</th>\n",
       "      <th>Customer type</th>\n",
       "      <th>Gender</th>\n",
       "      <th>Product line</th>\n",
       "      <th>Unit price</th>\n",
       "      <th>Quantity</th>\n",
       "      <th>Tax 5%</th>\n",
       "      <th>Sales</th>\n",
       "      <th>Date</th>\n",
       "      <th>Time</th>\n",
       "      <th>Payment</th>\n",
       "      <th>cogs</th>\n",
       "      <th>gross margin percentage</th>\n",
       "      <th>gross income</th>\n",
       "      <th>Rating</th>\n",
       "    </tr>\n",
       "  </thead>\n",
       "  <tbody>\n",
       "    <tr>\n",
       "      <th>0</th>\n",
       "      <td>750-67-8428</td>\n",
       "      <td>Alex</td>\n",
       "      <td>Yangon</td>\n",
       "      <td>Member</td>\n",
       "      <td>Female</td>\n",
       "      <td>Health and beauty</td>\n",
       "      <td>74.69</td>\n",
       "      <td>7</td>\n",
       "      <td>26.1415</td>\n",
       "      <td>548.9715</td>\n",
       "      <td>1/5/2019</td>\n",
       "      <td>1:08:00 PM</td>\n",
       "      <td>Ewallet</td>\n",
       "      <td>522.83</td>\n",
       "      <td>4.761905</td>\n",
       "      <td>26.1415</td>\n",
       "      <td>9.1</td>\n",
       "    </tr>\n",
       "    <tr>\n",
       "      <th>1</th>\n",
       "      <td>226-31-3081</td>\n",
       "      <td>Giza</td>\n",
       "      <td>Naypyitaw</td>\n",
       "      <td>Normal</td>\n",
       "      <td>Female</td>\n",
       "      <td>Electronic accessories</td>\n",
       "      <td>15.28</td>\n",
       "      <td>5</td>\n",
       "      <td>3.8200</td>\n",
       "      <td>80.2200</td>\n",
       "      <td>3/8/2019</td>\n",
       "      <td>10:29:00 AM</td>\n",
       "      <td>Cash</td>\n",
       "      <td>76.40</td>\n",
       "      <td>4.761905</td>\n",
       "      <td>3.8200</td>\n",
       "      <td>9.6</td>\n",
       "    </tr>\n",
       "    <tr>\n",
       "      <th>2</th>\n",
       "      <td>631-41-3108</td>\n",
       "      <td>Alex</td>\n",
       "      <td>Yangon</td>\n",
       "      <td>Normal</td>\n",
       "      <td>Female</td>\n",
       "      <td>Home and lifestyle</td>\n",
       "      <td>46.33</td>\n",
       "      <td>7</td>\n",
       "      <td>16.2155</td>\n",
       "      <td>340.5255</td>\n",
       "      <td>3/3/2019</td>\n",
       "      <td>1:23:00 PM</td>\n",
       "      <td>Credit card</td>\n",
       "      <td>324.31</td>\n",
       "      <td>4.761905</td>\n",
       "      <td>16.2155</td>\n",
       "      <td>7.4</td>\n",
       "    </tr>\n",
       "    <tr>\n",
       "      <th>3</th>\n",
       "      <td>123-19-1176</td>\n",
       "      <td>Alex</td>\n",
       "      <td>Yangon</td>\n",
       "      <td>Member</td>\n",
       "      <td>Female</td>\n",
       "      <td>Health and beauty</td>\n",
       "      <td>58.22</td>\n",
       "      <td>8</td>\n",
       "      <td>23.2880</td>\n",
       "      <td>489.0480</td>\n",
       "      <td>1/27/2019</td>\n",
       "      <td>8:33:00 PM</td>\n",
       "      <td>Ewallet</td>\n",
       "      <td>465.76</td>\n",
       "      <td>4.761905</td>\n",
       "      <td>23.2880</td>\n",
       "      <td>8.4</td>\n",
       "    </tr>\n",
       "    <tr>\n",
       "      <th>4</th>\n",
       "      <td>373-73-7910</td>\n",
       "      <td>Alex</td>\n",
       "      <td>Yangon</td>\n",
       "      <td>Member</td>\n",
       "      <td>Female</td>\n",
       "      <td>Sports and travel</td>\n",
       "      <td>86.31</td>\n",
       "      <td>7</td>\n",
       "      <td>30.2085</td>\n",
       "      <td>634.3785</td>\n",
       "      <td>2/8/2019</td>\n",
       "      <td>10:37:00 AM</td>\n",
       "      <td>Ewallet</td>\n",
       "      <td>604.17</td>\n",
       "      <td>4.761905</td>\n",
       "      <td>30.2085</td>\n",
       "      <td>5.3</td>\n",
       "    </tr>\n",
       "  </tbody>\n",
       "</table></div>"
      ],
      "text/plain": [
       "<IPython.core.display.HTML object>"
      ]
     },
     "execution_count": 139,
     "metadata": {},
     "output_type": "execute_result"
    }
   ],
   "source": [
    "path = 'D:\\\\PythonProjects\\\\Dataset\\\\SuperMarket Analysis.csv'\n",
    "df = pd.read_csv(path)\n",
    "print(f\"Rows, Columns: {df.shape}\\n\")\n",
    "print(df.info())\n",
    "df.head()\n",
    "from IPython.display import HTML\n",
    "HTML(\"<div style='overflow-x: auto'>\" + df.head().to_html() + \"</div>\")\n"
   ]
  },
  {
   "cell_type": "markdown",
   "metadata": {
    "id": "p0joT5UWKgXk"
   },
   "source": [
    "## Pre-processing"
   ]
  },
  {
   "cell_type": "markdown",
   "metadata": {
    "id": "UedZs5MpbYu7"
   },
   "source": [
    "### Null values and duplicate analysis"
   ]
  },
  {
   "cell_type": "code",
   "execution_count": 142,
   "metadata": {
    "colab": {
     "base_uri": "https://localhost:8080/"
    },
    "id": "9EhDlsnXba2l",
    "outputId": "b604ed15-f48a-48d1-b39c-7abe50bccedb"
   },
   "outputs": [
    {
     "name": "stdout",
     "output_type": "stream",
     "text": [
      "Are there duplicate values?  False\n",
      "Are there null values?  False\n"
     ]
    }
   ],
   "source": [
    "print(\"Are there duplicate values? \", df.duplicated().any())\n",
    "print(\"Are there null values? \", df.isnull().values.any())"
   ]
  },
  {
   "cell_type": "markdown",
   "metadata": {
    "id": "j3sR-qeRbevu"
   },
   "source": [
    "### Features analysis"
   ]
  },
  {
   "cell_type": "code",
   "execution_count": 144,
   "metadata": {
    "colab": {
     "base_uri": "https://localhost:8080/"
    },
    "id": "7_86Hteabr74",
    "outputId": "94ab4c57-416f-4421-ea2e-261a24f7a760"
   },
   "outputs": [
    {
     "name": "stdout",
     "output_type": "stream",
     "text": [
      "Invoice ID                  object\n",
      "Branch                      object\n",
      "City                        object\n",
      "Customer type               object\n",
      "Gender                      object\n",
      "Product line                object\n",
      "Unit price                 float64\n",
      "Quantity                     int64\n",
      "Tax 5%                     float64\n",
      "Sales                      float64\n",
      "Date                        object\n",
      "Time                        object\n",
      "Payment                     object\n",
      "cogs                       float64\n",
      "gross margin percentage    float64\n",
      "gross income               float64\n",
      "Rating                     float64\n",
      "dtype: object\n"
     ]
    }
   ],
   "source": [
    "print(df.dtypes)"
   ]
  },
  {
   "cell_type": "code",
   "execution_count": 145,
   "metadata": {
    "colab": {
     "base_uri": "https://localhost:8080/"
    },
    "id": "FlfUR3M-bwpp",
    "outputId": "9ec53a72-c6f8-479b-b798-e00ff388ef2b"
   },
   "outputs": [
    {
     "name": "stdout",
     "output_type": "stream",
     "text": [
      "\n",
      "Column: Branch\n",
      "Unique values (3): ['Alex' 'Giza' 'Cairo']\n",
      "\n",
      "Column: City\n",
      "Unique values (3): ['Yangon' 'Naypyitaw' 'Mandalay']\n",
      "\n",
      "Column: Customer type\n",
      "Unique values (2): ['Member' 'Normal']\n",
      "\n",
      "Column: Gender\n",
      "Unique values (2): ['Female' 'Male']\n",
      "\n",
      "Column: Product line\n",
      "Unique values (6): ['Health and beauty' 'Electronic accessories' 'Home and lifestyle'\n",
      " 'Sports and travel' 'Food and beverages' 'Fashion accessories']\n",
      "\n",
      "Column: Payment\n",
      "Unique values (3): ['Ewallet' 'Cash' 'Credit card']\n"
     ]
    }
   ],
   "source": [
    "# Find the unique values for each non-numeric column\n",
    "for col in df.drop(columns = ['Invoice ID','Date','Time']).select_dtypes(include='object').columns:\n",
    "    print(f\"\\nColumn: {col}\")\n",
    "    print(f\"Unique values ({df[col].nunique()}): {df[col].unique()}\")"
   ]
  },
  {
   "cell_type": "code",
   "execution_count": 146,
   "metadata": {
    "colab": {
     "base_uri": "https://localhost:8080/"
    },
    "id": "A_Qu4x0A5Eke",
    "outputId": "8fefd54e-9cd9-49e2-d6f0-51f7864b330c"
   },
   "outputs": [
    {
     "name": "stdout",
     "output_type": "stream",
     "text": [
      "Branch-City 1:1 relationship: \n",
      "   Branch       City\n",
      "0   Alex     Yangon\n",
      "1   Giza  Naypyitaw\n",
      "9  Cairo   Mandalay\n"
     ]
    }
   ],
   "source": [
    "print('Branch-City 1:1 relationship: \\n' , df[['Branch','City']].drop_duplicates())"
   ]
  },
  {
   "cell_type": "markdown",
   "metadata": {
    "id": "VeSDWJ46cfez"
   },
   "source": [
    "### Data time preprocessing"
   ]
  },
  {
   "cell_type": "code",
   "execution_count": 148,
   "metadata": {
    "colab": {
     "base_uri": "https://localhost:8080/",
     "height": 348
    },
    "id": "LWh2YhkIcis0",
    "outputId": "f615b330-5740-4026-d419-b362b8bc3243"
   },
   "outputs": [
    {
     "data": {
      "text/html": [
       "<div>\n",
       "<style scoped>\n",
       "    .dataframe tbody tr th:only-of-type {\n",
       "        vertical-align: middle;\n",
       "    }\n",
       "\n",
       "    .dataframe tbody tr th {\n",
       "        vertical-align: top;\n",
       "    }\n",
       "\n",
       "    .dataframe thead th {\n",
       "        text-align: right;\n",
       "    }\n",
       "</style>\n",
       "<table border=\"1\" class=\"dataframe\">\n",
       "  <thead>\n",
       "    <tr style=\"text-align: right;\">\n",
       "      <th></th>\n",
       "      <th>Invoice ID</th>\n",
       "      <th>Branch</th>\n",
       "      <th>City</th>\n",
       "      <th>Customer type</th>\n",
       "      <th>Gender</th>\n",
       "      <th>Product line</th>\n",
       "      <th>Unit price</th>\n",
       "      <th>Quantity</th>\n",
       "      <th>Tax 5%</th>\n",
       "      <th>Sales</th>\n",
       "      <th>Date</th>\n",
       "      <th>Time</th>\n",
       "      <th>Payment</th>\n",
       "      <th>cogs</th>\n",
       "      <th>gross margin percentage</th>\n",
       "      <th>gross income</th>\n",
       "      <th>Rating</th>\n",
       "      <th>DayOfWeek</th>\n",
       "      <th>Hour</th>\n",
       "      <th>TimeOfDay</th>\n",
       "    </tr>\n",
       "  </thead>\n",
       "  <tbody>\n",
       "    <tr>\n",
       "      <th>0</th>\n",
       "      <td>750-67-8428</td>\n",
       "      <td>Alex</td>\n",
       "      <td>Yangon</td>\n",
       "      <td>Member</td>\n",
       "      <td>Female</td>\n",
       "      <td>Health and beauty</td>\n",
       "      <td>74.69</td>\n",
       "      <td>7</td>\n",
       "      <td>26.1415</td>\n",
       "      <td>548.9715</td>\n",
       "      <td>2019-01-05</td>\n",
       "      <td>2025-07-04 13:08:00</td>\n",
       "      <td>Ewallet</td>\n",
       "      <td>522.83</td>\n",
       "      <td>4.761905</td>\n",
       "      <td>26.1415</td>\n",
       "      <td>9.1</td>\n",
       "      <td>Saturday</td>\n",
       "      <td>13</td>\n",
       "      <td>Afternoon</td>\n",
       "    </tr>\n",
       "    <tr>\n",
       "      <th>1</th>\n",
       "      <td>226-31-3081</td>\n",
       "      <td>Giza</td>\n",
       "      <td>Naypyitaw</td>\n",
       "      <td>Normal</td>\n",
       "      <td>Female</td>\n",
       "      <td>Electronic accessories</td>\n",
       "      <td>15.28</td>\n",
       "      <td>5</td>\n",
       "      <td>3.8200</td>\n",
       "      <td>80.2200</td>\n",
       "      <td>2019-03-08</td>\n",
       "      <td>2025-07-04 10:29:00</td>\n",
       "      <td>Cash</td>\n",
       "      <td>76.40</td>\n",
       "      <td>4.761905</td>\n",
       "      <td>3.8200</td>\n",
       "      <td>9.6</td>\n",
       "      <td>Friday</td>\n",
       "      <td>10</td>\n",
       "      <td>Morning</td>\n",
       "    </tr>\n",
       "    <tr>\n",
       "      <th>2</th>\n",
       "      <td>631-41-3108</td>\n",
       "      <td>Alex</td>\n",
       "      <td>Yangon</td>\n",
       "      <td>Normal</td>\n",
       "      <td>Female</td>\n",
       "      <td>Home and lifestyle</td>\n",
       "      <td>46.33</td>\n",
       "      <td>7</td>\n",
       "      <td>16.2155</td>\n",
       "      <td>340.5255</td>\n",
       "      <td>2019-03-03</td>\n",
       "      <td>2025-07-04 13:23:00</td>\n",
       "      <td>Credit card</td>\n",
       "      <td>324.31</td>\n",
       "      <td>4.761905</td>\n",
       "      <td>16.2155</td>\n",
       "      <td>7.4</td>\n",
       "      <td>Sunday</td>\n",
       "      <td>13</td>\n",
       "      <td>Afternoon</td>\n",
       "    </tr>\n",
       "    <tr>\n",
       "      <th>3</th>\n",
       "      <td>123-19-1176</td>\n",
       "      <td>Alex</td>\n",
       "      <td>Yangon</td>\n",
       "      <td>Member</td>\n",
       "      <td>Female</td>\n",
       "      <td>Health and beauty</td>\n",
       "      <td>58.22</td>\n",
       "      <td>8</td>\n",
       "      <td>23.2880</td>\n",
       "      <td>489.0480</td>\n",
       "      <td>2019-01-27</td>\n",
       "      <td>2025-07-04 20:33:00</td>\n",
       "      <td>Ewallet</td>\n",
       "      <td>465.76</td>\n",
       "      <td>4.761905</td>\n",
       "      <td>23.2880</td>\n",
       "      <td>8.4</td>\n",
       "      <td>Sunday</td>\n",
       "      <td>20</td>\n",
       "      <td>Evening</td>\n",
       "    </tr>\n",
       "    <tr>\n",
       "      <th>4</th>\n",
       "      <td>373-73-7910</td>\n",
       "      <td>Alex</td>\n",
       "      <td>Yangon</td>\n",
       "      <td>Member</td>\n",
       "      <td>Female</td>\n",
       "      <td>Sports and travel</td>\n",
       "      <td>86.31</td>\n",
       "      <td>7</td>\n",
       "      <td>30.2085</td>\n",
       "      <td>634.3785</td>\n",
       "      <td>2019-02-08</td>\n",
       "      <td>2025-07-04 10:37:00</td>\n",
       "      <td>Ewallet</td>\n",
       "      <td>604.17</td>\n",
       "      <td>4.761905</td>\n",
       "      <td>30.2085</td>\n",
       "      <td>5.3</td>\n",
       "      <td>Friday</td>\n",
       "      <td>10</td>\n",
       "      <td>Morning</td>\n",
       "    </tr>\n",
       "  </tbody>\n",
       "</table>\n",
       "</div>"
      ],
      "text/plain": [
       "    Invoice ID Branch       City Customer type  Gender  \\\n",
       "0  750-67-8428   Alex     Yangon        Member  Female   \n",
       "1  226-31-3081   Giza  Naypyitaw        Normal  Female   \n",
       "2  631-41-3108   Alex     Yangon        Normal  Female   \n",
       "3  123-19-1176   Alex     Yangon        Member  Female   \n",
       "4  373-73-7910   Alex     Yangon        Member  Female   \n",
       "\n",
       "             Product line  Unit price  Quantity   Tax 5%     Sales       Date  \\\n",
       "0       Health and beauty       74.69         7  26.1415  548.9715 2019-01-05   \n",
       "1  Electronic accessories       15.28         5   3.8200   80.2200 2019-03-08   \n",
       "2      Home and lifestyle       46.33         7  16.2155  340.5255 2019-03-03   \n",
       "3       Health and beauty       58.22         8  23.2880  489.0480 2019-01-27   \n",
       "4       Sports and travel       86.31         7  30.2085  634.3785 2019-02-08   \n",
       "\n",
       "                 Time      Payment    cogs  gross margin percentage  \\\n",
       "0 2025-07-04 13:08:00      Ewallet  522.83                 4.761905   \n",
       "1 2025-07-04 10:29:00         Cash   76.40                 4.761905   \n",
       "2 2025-07-04 13:23:00  Credit card  324.31                 4.761905   \n",
       "3 2025-07-04 20:33:00      Ewallet  465.76                 4.761905   \n",
       "4 2025-07-04 10:37:00      Ewallet  604.17                 4.761905   \n",
       "\n",
       "   gross income  Rating DayOfWeek  Hour  TimeOfDay  \n",
       "0       26.1415     9.1  Saturday    13  Afternoon  \n",
       "1        3.8200     9.6    Friday    10    Morning  \n",
       "2       16.2155     7.4    Sunday    13  Afternoon  \n",
       "3       23.2880     8.4    Sunday    20    Evening  \n",
       "4       30.2085     5.3    Friday    10    Morning  "
      ]
     },
     "execution_count": 148,
     "metadata": {},
     "output_type": "execute_result"
    }
   ],
   "source": [
    "# Convert the 'Date' column to datetime format\n",
    "df['Date'] = pd.to_datetime(df['Date'],  format = '%m/%d/%Y')\n",
    "\n",
    "# Extract day name (e.g., Monday, Tuesday, etc.)\n",
    "df['DayOfWeek'] = df['Date'].dt.day_name()\n",
    "\n",
    "# Convert the 'Time' column to datetime format\n",
    "warnings.filterwarnings(\"ignore\", category=UserWarning)\n",
    "df['Time'] = pd.to_datetime(df['Time'])\n",
    "\n",
    "# Extract the hour\n",
    "df['Hour'] = df['Time'].dt.hour\n",
    "\n",
    "# Assign the time of day\n",
    "def assign_time_period(hour):\n",
    "    if 6 <= hour < 12:\n",
    "        return 'Morning'\n",
    "    elif 12 <= hour < 18:\n",
    "        return 'Afternoon'\n",
    "    elif 18 <= hour <= 24:\n",
    "        return 'Evening'\n",
    "\n",
    "# Apply\n",
    "df['TimeOfDay'] = df['Hour'].apply(assign_time_period)\n",
    "\n",
    "df.head()"
   ]
  },
  {
   "cell_type": "markdown",
   "metadata": {
    "id": "BS-7YeTViZs8"
   },
   "source": [
    "## Descriptive analysis"
   ]
  },
  {
   "cell_type": "markdown",
   "metadata": {
    "id": "7hgws0qOEY3E"
   },
   "source": [
    "### Summary statistics (numerical variables)"
   ]
  },
  {
   "cell_type": "code",
   "execution_count": 151,
   "metadata": {
    "colab": {
     "base_uri": "https://localhost:8080/",
     "height": 422
    },
    "id": "mSEA8BhPicF-",
    "outputId": "b8dc593d-0a52-4de3-dbe7-a0c25faedd35"
   },
   "outputs": [
    {
     "data": {
      "text/html": [
       "<div>\n",
       "<style scoped>\n",
       "    .dataframe tbody tr th:only-of-type {\n",
       "        vertical-align: middle;\n",
       "    }\n",
       "\n",
       "    .dataframe tbody tr th {\n",
       "        vertical-align: top;\n",
       "    }\n",
       "\n",
       "    .dataframe thead th {\n",
       "        text-align: right;\n",
       "    }\n",
       "</style>\n",
       "<table border=\"1\" class=\"dataframe\">\n",
       "  <thead>\n",
       "    <tr style=\"text-align: right;\">\n",
       "      <th></th>\n",
       "      <th>Unit price</th>\n",
       "      <th>Quantity</th>\n",
       "      <th>Tax 5%</th>\n",
       "      <th>Sales</th>\n",
       "      <th>Date</th>\n",
       "      <th>Time</th>\n",
       "      <th>cogs</th>\n",
       "      <th>gross margin percentage</th>\n",
       "      <th>gross income</th>\n",
       "      <th>Rating</th>\n",
       "      <th>Hour</th>\n",
       "    </tr>\n",
       "  </thead>\n",
       "  <tbody>\n",
       "    <tr>\n",
       "      <th>count</th>\n",
       "      <td>1000.000000</td>\n",
       "      <td>1000.000000</td>\n",
       "      <td>1000.000000</td>\n",
       "      <td>1000.000000</td>\n",
       "      <td>1000</td>\n",
       "      <td>1000</td>\n",
       "      <td>1000.00000</td>\n",
       "      <td>1.000000e+03</td>\n",
       "      <td>1000.000000</td>\n",
       "      <td>1000.00000</td>\n",
       "      <td>1000.000000</td>\n",
       "    </tr>\n",
       "    <tr>\n",
       "      <th>mean</th>\n",
       "      <td>55.672130</td>\n",
       "      <td>5.510000</td>\n",
       "      <td>15.379369</td>\n",
       "      <td>322.966749</td>\n",
       "      <td>2019-02-14 00:05:45.600000</td>\n",
       "      <td>2025-07-04 15:24:41.880000</td>\n",
       "      <td>307.58738</td>\n",
       "      <td>4.761905e+00</td>\n",
       "      <td>15.379369</td>\n",
       "      <td>6.97270</td>\n",
       "      <td>14.910000</td>\n",
       "    </tr>\n",
       "    <tr>\n",
       "      <th>min</th>\n",
       "      <td>10.080000</td>\n",
       "      <td>1.000000</td>\n",
       "      <td>0.508500</td>\n",
       "      <td>10.678500</td>\n",
       "      <td>2019-01-01 00:00:00</td>\n",
       "      <td>2025-07-04 10:00:00</td>\n",
       "      <td>10.17000</td>\n",
       "      <td>4.761905e+00</td>\n",
       "      <td>0.508500</td>\n",
       "      <td>4.00000</td>\n",
       "      <td>10.000000</td>\n",
       "    </tr>\n",
       "    <tr>\n",
       "      <th>25%</th>\n",
       "      <td>32.875000</td>\n",
       "      <td>3.000000</td>\n",
       "      <td>5.924875</td>\n",
       "      <td>124.422375</td>\n",
       "      <td>2019-01-24 00:00:00</td>\n",
       "      <td>2025-07-04 12:43:00</td>\n",
       "      <td>118.49750</td>\n",
       "      <td>4.761905e+00</td>\n",
       "      <td>5.924875</td>\n",
       "      <td>5.50000</td>\n",
       "      <td>12.000000</td>\n",
       "    </tr>\n",
       "    <tr>\n",
       "      <th>50%</th>\n",
       "      <td>55.230000</td>\n",
       "      <td>5.000000</td>\n",
       "      <td>12.088000</td>\n",
       "      <td>253.848000</td>\n",
       "      <td>2019-02-13 00:00:00</td>\n",
       "      <td>2025-07-04 15:19:00</td>\n",
       "      <td>241.76000</td>\n",
       "      <td>4.761905e+00</td>\n",
       "      <td>12.088000</td>\n",
       "      <td>7.00000</td>\n",
       "      <td>15.000000</td>\n",
       "    </tr>\n",
       "    <tr>\n",
       "      <th>75%</th>\n",
       "      <td>77.935000</td>\n",
       "      <td>8.000000</td>\n",
       "      <td>22.445250</td>\n",
       "      <td>471.350250</td>\n",
       "      <td>2019-03-08 00:00:00</td>\n",
       "      <td>2025-07-04 18:15:00</td>\n",
       "      <td>448.90500</td>\n",
       "      <td>4.761905e+00</td>\n",
       "      <td>22.445250</td>\n",
       "      <td>8.50000</td>\n",
       "      <td>18.000000</td>\n",
       "    </tr>\n",
       "    <tr>\n",
       "      <th>max</th>\n",
       "      <td>99.960000</td>\n",
       "      <td>10.000000</td>\n",
       "      <td>49.650000</td>\n",
       "      <td>1042.650000</td>\n",
       "      <td>2019-03-30 00:00:00</td>\n",
       "      <td>2025-07-04 20:59:00</td>\n",
       "      <td>993.00000</td>\n",
       "      <td>4.761905e+00</td>\n",
       "      <td>49.650000</td>\n",
       "      <td>10.00000</td>\n",
       "      <td>20.000000</td>\n",
       "    </tr>\n",
       "    <tr>\n",
       "      <th>std</th>\n",
       "      <td>26.494628</td>\n",
       "      <td>2.923431</td>\n",
       "      <td>11.708825</td>\n",
       "      <td>245.885335</td>\n",
       "      <td>NaN</td>\n",
       "      <td>NaN</td>\n",
       "      <td>234.17651</td>\n",
       "      <td>6.131498e-14</td>\n",
       "      <td>11.708825</td>\n",
       "      <td>1.71858</td>\n",
       "      <td>3.186857</td>\n",
       "    </tr>\n",
       "  </tbody>\n",
       "</table>\n",
       "</div>"
      ],
      "text/plain": [
       "        Unit price     Quantity       Tax 5%        Sales  \\\n",
       "count  1000.000000  1000.000000  1000.000000  1000.000000   \n",
       "mean     55.672130     5.510000    15.379369   322.966749   \n",
       "min      10.080000     1.000000     0.508500    10.678500   \n",
       "25%      32.875000     3.000000     5.924875   124.422375   \n",
       "50%      55.230000     5.000000    12.088000   253.848000   \n",
       "75%      77.935000     8.000000    22.445250   471.350250   \n",
       "max      99.960000    10.000000    49.650000  1042.650000   \n",
       "std      26.494628     2.923431    11.708825   245.885335   \n",
       "\n",
       "                             Date                        Time        cogs  \\\n",
       "count                        1000                        1000  1000.00000   \n",
       "mean   2019-02-14 00:05:45.600000  2025-07-04 15:24:41.880000   307.58738   \n",
       "min           2019-01-01 00:00:00         2025-07-04 10:00:00    10.17000   \n",
       "25%           2019-01-24 00:00:00         2025-07-04 12:43:00   118.49750   \n",
       "50%           2019-02-13 00:00:00         2025-07-04 15:19:00   241.76000   \n",
       "75%           2019-03-08 00:00:00         2025-07-04 18:15:00   448.90500   \n",
       "max           2019-03-30 00:00:00         2025-07-04 20:59:00   993.00000   \n",
       "std                           NaN                         NaN   234.17651   \n",
       "\n",
       "       gross margin percentage  gross income      Rating         Hour  \n",
       "count             1.000000e+03   1000.000000  1000.00000  1000.000000  \n",
       "mean              4.761905e+00     15.379369     6.97270    14.910000  \n",
       "min               4.761905e+00      0.508500     4.00000    10.000000  \n",
       "25%               4.761905e+00      5.924875     5.50000    12.000000  \n",
       "50%               4.761905e+00     12.088000     7.00000    15.000000  \n",
       "75%               4.761905e+00     22.445250     8.50000    18.000000  \n",
       "max               4.761905e+00     49.650000    10.00000    20.000000  \n",
       "std               6.131498e-14     11.708825     1.71858     3.186857  "
      ]
     },
     "execution_count": 151,
     "metadata": {},
     "output_type": "execute_result"
    }
   ],
   "source": [
    "df.describe()"
   ]
  },
  {
   "cell_type": "markdown",
   "metadata": {
    "id": "-w_YmgO77lE2"
   },
   "source": [
    "**Key observations:**\n",
    "\n",
    "   \n",
    "\n",
    "\n",
    "\n",
    "*   The dataset collects customer purchases made in **2019**, specifically during the period from **January 1st to March 30th**.\n",
    "\n",
    "*   The preliminary analysis reveals that **Sales** exhibit high variability, primarily driven by fluctuations in Unit price.\n",
    "\n",
    "*   Similarly, the **Cost of Goods Sold** (COGS) shows significant variability.\n",
    "\n",
    "\n",
    "*   Both **Sales** and **COGS** are crucial in directly determining the Gross Income.\n",
    "\n",
    "\n",
    "\n",
    "\n",
    "\n"
   ]
  },
  {
   "cell_type": "markdown",
   "metadata": {
    "id": "P8HYsl_D1pNS"
   },
   "source": [
    "### Quantitative variable distribution analysis"
   ]
  },
  {
   "cell_type": "code",
   "execution_count": 154,
   "metadata": {
    "colab": {
     "base_uri": "https://localhost:8080/",
     "height": 72
    },
    "id": "rslrSWtuty1T",
    "outputId": "4cc96e81-01e5-4090-c1f9-f819c42af6f1"
   },
   "outputs": [
    {
     "data": {
      "image/png": "[encoded data removed]",
      "text/plain": [
       "<Figure size 2000x500 with 4 Axes>"
      ]
     },
     "metadata": {},
     "output_type": "display_data"
    },
    {
     "data": {
      "image/png": "[encoded data removed]",
      "text/plain": [
       "<Figure size 2000x500 with 4 Axes>"
      ]
     },
     "metadata": {},
     "output_type": "display_data"
    }
   ],
   "source": [
    "variables = ['Sales', 'cogs', 'gross income', 'Rating']\n",
    "\n",
    "# Density plots in a 1x4 grid\n",
    "plt.figure(figsize=(20,5))\n",
    "for i, var in enumerate(variables, 1):\n",
    "    plt.subplot(1, 4, i)\n",
    "    sns.kdeplot(df[var], fill=True)\n",
    "    plt.title(f'Density Plot of {var}')\n",
    "    plt.xlabel(var)\n",
    "    plt.ylabel('Density')\n",
    "plt.tight_layout()\n",
    "plt.show()\n",
    "\n",
    "# Boxplots in a 1x4 grid\n",
    "plt.figure(figsize=(20,5))\n",
    "for i, var in enumerate(variables, 1):\n",
    "    plt.subplot(1, 4, i)\n",
    "    sns.boxplot(x=df[var])\n",
    "    plt.title(f'Boxplot of {var}')\n",
    "    plt.xlabel(var)\n",
    "plt.tight_layout()\n",
    "plt.show()\n"
   ]
  },
  {
   "cell_type": "markdown",
   "metadata": {
    "id": "P-QsRzfpDKam"
   },
   "source": [
    "**Key Observations**\n",
    "\n",
    "* The distribution of **Sales** is **right-skewed**, indicating that most profits fall below the average, with only a few transactions generating very high profits.\n",
    "*   As anticipated, the distribution of **Gross Income** aligns with that of **Sales** and **Cost of Goods Sold** (COGS), reflecting their direct relationship. Furthermore, the boxplot analysis for these variables highlights the presence of several outliers.\n",
    "\n",
    "*   In contrast, the **Rating** distribution exhibits a high degree of symmetry.\n",
    "\n",
    "\n",
    "\n",
    "\n",
    "\n",
    "\n"
   ]
  },
  {
   "cell_type": "markdown",
   "metadata": {
    "id": "e1_XzHCH2BjZ"
   },
   "source": [
    "### Quantitative variable outliers analysis"
   ]
  },
  {
   "cell_type": "code",
   "execution_count": 157,
   "metadata": {
    "colab": {
     "base_uri": "https://localhost:8080/"
    },
    "id": "NgOi-6fbjf7u",
    "outputId": "d0758652-4015-488d-f7a0-0d89d9e964d9"
   },
   "outputs": [
    {
     "name": "stdout",
     "output_type": "stream",
     "text": [
      "Outliers for 'Sales':\n",
      "      Invoice ID Branch       City Customer type  Gender         Product line  \\\n",
      "166  234-65-2137   Giza  Naypyitaw        Normal    Male   Home and lifestyle   \n",
      "167  687-47-8271   Alex     Yangon        Normal    Male  Fashion accessories   \n",
      "350  860-79-0874   Giza  Naypyitaw        Member  Female  Fashion accessories   \n",
      "357  554-42-2417   Giza  Naypyitaw        Normal  Female    Sports and travel   \n",
      "422  271-88-8734   Giza  Naypyitaw        Member  Female  Fashion accessories   \n",
      "557  283-26-5248   Giza  Naypyitaw        Member  Female   Food and beverages   \n",
      "699  751-41-9720   Giza  Naypyitaw        Normal    Male   Home and lifestyle   \n",
      "792  744-16-7898  Cairo   Mandalay        Normal  Female   Home and lifestyle   \n",
      "996  303-96-2227  Cairo   Mandalay        Normal  Female   Home and lifestyle   \n",
      "\n",
      "     Unit price  Quantity  Tax 5%     Sales       Date                Time  \\\n",
      "166       95.58        10  47.790  1003.590 2019-01-16 2025-07-04 13:32:00   \n",
      "167       98.98        10  49.490  1039.290 2019-02-08 2025-07-04 16:20:00   \n",
      "350       99.30        10  49.650  1042.650 2019-02-15 2025-07-04 14:53:00   \n",
      "357       95.44        10  47.720  1002.120 2019-01-09 2025-07-04 13:45:00   \n",
      "422       97.21        10  48.605  1020.705 2019-02-08 2025-07-04 13:00:00   \n",
      "557       98.52        10  49.260  1034.460 2019-01-30 2025-07-04 20:23:00   \n",
      "699       97.50        10  48.750  1023.750 2019-01-12 2025-07-04 16:18:00   \n",
      "792       97.37        10  48.685  1022.385 2019-01-15 2025-07-04 13:48:00   \n",
      "996       97.38        10  48.690  1022.490 2019-03-02 2025-07-04 17:16:00   \n",
      "\n",
      "         Payment   cogs  gross margin percentage  gross income  Rating  \\\n",
      "166         Cash  955.8                 4.761905        47.790     4.8   \n",
      "167  Credit card  989.8                 4.761905        49.490     8.7   \n",
      "350  Credit card  993.0                 4.761905        49.650     6.6   \n",
      "357         Cash  954.4                 4.761905        47.720     5.2   \n",
      "422  Credit card  972.1                 4.761905        48.605     8.7   \n",
      "557      Ewallet  985.2                 4.761905        49.260     4.5   \n",
      "699      Ewallet  975.0                 4.761905        48.750     8.0   \n",
      "792  Credit card  973.7                 4.761905        48.685     4.9   \n",
      "996      Ewallet  973.8                 4.761905        48.690     4.4   \n",
      "\n",
      "     DayOfWeek  Hour  TimeOfDay  \n",
      "166  Wednesday    13  Afternoon  \n",
      "167     Friday    16  Afternoon  \n",
      "350     Friday    14  Afternoon  \n",
      "357  Wednesday    13  Afternoon  \n",
      "422     Friday    13  Afternoon  \n",
      "557  Wednesday    20    Evening  \n",
      "699   Saturday    16  Afternoon  \n",
      "792    Tuesday    13  Afternoon  \n",
      "996   Saturday    17  Afternoon  \n",
      "Number of outliers: 9\n",
      "\n",
      "Outliers for 'gross income':\n",
      "      Invoice ID Branch       City Customer type  Gender         Product line  \\\n",
      "166  234-65-2137   Giza  Naypyitaw        Normal    Male   Home and lifestyle   \n",
      "167  687-47-8271   Alex     Yangon        Normal    Male  Fashion accessories   \n",
      "350  860-79-0874   Giza  Naypyitaw        Member  Female  Fashion accessories   \n",
      "357  554-42-2417   Giza  Naypyitaw        Normal  Female    Sports and travel   \n",
      "422  271-88-8734   Giza  Naypyitaw        Member  Female  Fashion accessories   \n",
      "557  283-26-5248   Giza  Naypyitaw        Member  Female   Food and beverages   \n",
      "699  751-41-9720   Giza  Naypyitaw        Normal    Male   Home and lifestyle   \n",
      "792  744-16-7898  Cairo   Mandalay        Normal  Female   Home and lifestyle   \n",
      "996  303-96-2227  Cairo   Mandalay        Normal  Female   Home and lifestyle   \n",
      "\n",
      "     Unit price  Quantity  Tax 5%     Sales       Date                Time  \\\n",
      "166       95.58        10  47.790  1003.590 2019-01-16 2025-07-04 13:32:00   \n",
      "167       98.98        10  49.490  1039.290 2019-02-08 2025-07-04 16:20:00   \n",
      "350       99.30        10  49.650  1042.650 2019-02-15 2025-07-04 14:53:00   \n",
      "357       95.44        10  47.720  1002.120 2019-01-09 2025-07-04 13:45:00   \n",
      "422       97.21        10  48.605  1020.705 2019-02-08 2025-07-04 13:00:00   \n",
      "557       98.52        10  49.260  1034.460 2019-01-30 2025-07-04 20:23:00   \n",
      "699       97.50        10  48.750  1023.750 2019-01-12 2025-07-04 16:18:00   \n",
      "792       97.37        10  48.685  1022.385 2019-01-15 2025-07-04 13:48:00   \n",
      "996       97.38        10  48.690  1022.490 2019-03-02 2025-07-04 17:16:00   \n",
      "\n",
      "         Payment   cogs  gross margin percentage  gross income  Rating  \\\n",
      "166         Cash  955.8                 4.761905        47.790     4.8   \n",
      "167  Credit card  989.8                 4.761905        49.490     8.7   \n",
      "350  Credit card  993.0                 4.761905        49.650     6.6   \n",
      "357         Cash  954.4                 4.761905        47.720     5.2   \n",
      "422  Credit card  972.1                 4.761905        48.605     8.7   \n",
      "557      Ewallet  985.2                 4.761905        49.260     4.5   \n",
      "699      Ewallet  975.0                 4.761905        48.750     8.0   \n",
      "792  Credit card  973.7                 4.761905        48.685     4.9   \n",
      "996      Ewallet  973.8                 4.761905        48.690     4.4   \n",
      "\n",
      "     DayOfWeek  Hour  TimeOfDay  \n",
      "166  Wednesday    13  Afternoon  \n",
      "167     Friday    16  Afternoon  \n",
      "350     Friday    14  Afternoon  \n",
      "357  Wednesday    13  Afternoon  \n",
      "422     Friday    13  Afternoon  \n",
      "557  Wednesday    20    Evening  \n",
      "699   Saturday    16  Afternoon  \n",
      "792    Tuesday    13  Afternoon  \n",
      "996   Saturday    17  Afternoon  \n",
      "Number of outliers: 9\n",
      "\n"
     ]
    }
   ],
   "source": [
    "# Extract the outliers\n",
    "def find_outliers(df, col):\n",
    "    Q1 = df[col].quantile(0.25)\n",
    "    Q3 = df[col].quantile(0.75)\n",
    "    IQR = Q3 - Q1\n",
    "    lower_bound = Q1 - 1.5 * IQR\n",
    "    upper_bound = Q3 + 1.5 * IQR\n",
    "    outliers = df[(df[col] < lower_bound) | (df[col] > upper_bound)]\n",
    "    return outliers\n",
    "\n",
    "# Apply\n",
    "outliers_sales = find_outliers(df, 'Sales')\n",
    "outliers_income = find_outliers(df, 'gross income')\n",
    "print(f\"Outliers for 'Sales':\")\n",
    "print(outliers_sales)\n",
    "print(f\"Number of outliers: {len(outliers_sales)}\\n\")\n",
    "print(f\"Outliers for 'gross income':\")\n",
    "print(outliers_income)\n",
    "print(f\"Number of outliers: {len(outliers_income)}\\n\")"
   ]
  },
  {
   "cell_type": "markdown",
   "metadata": {
    "id": "67qZ01t0K0Qg"
   },
   "source": [
    "**Key observations**\n",
    "\n",
    "The outliers in Sales and Gross Income originate from the same observations. This outcome is expected, given that Gross Income is directly derived from the Sales amount.\n",
    "\n"
   ]
  },
  {
   "cell_type": "code",
   "execution_count": 159,
   "metadata": {
    "colab": {
     "base_uri": "https://localhost:8080/"
    },
    "id": "_n80KaSBgZny",
    "outputId": "98bb8b00-5c1d-4c61-a220-2a1b76039aa8"
   },
   "outputs": [
    {
     "name": "stdout",
     "output_type": "stream",
     "text": [
      "City       TimeOfDay\n",
      "Naypyitaw  Afternoon    5\n",
      "Mandalay   Afternoon    2\n",
      "Naypyitaw  Evening      1\n",
      "Yangon     Afternoon    1\n",
      "dtype: int64 \n",
      "\n",
      "DayOfWeek\n",
      "Wednesday    3\n",
      "Friday       3\n",
      "Saturday     2\n",
      "Tuesday      1\n",
      "Name: count, dtype: int64 \n",
      "\n",
      "Hour\n",
      "13    4\n",
      "16    2\n",
      "14    1\n",
      "20    1\n",
      "17    1\n",
      "Name: count, dtype: int64 \n",
      "\n",
      "Customer type\n",
      "Normal    6\n",
      "Member    3\n",
      "Name: count, dtype: int64 \n",
      "\n",
      "Gender\n",
      "Female    6\n",
      "Male      3\n",
      "Name: count, dtype: int64 \n",
      "\n",
      "Payment\n",
      "Credit card    4\n",
      "Ewallet        3\n",
      "Cash           2\n",
      "Name: count, dtype: int64 \n",
      "\n",
      "Product line\n",
      "Home and lifestyle     4\n",
      "Fashion accessories    3\n",
      "Sports and travel      1\n",
      "Food and beverages     1\n",
      "Name: count, dtype: int64 \n",
      "\n"
     ]
    }
   ],
   "source": [
    "# Outliers by categorical variables\n",
    "variables = ['DayOfWeek','Hour','Customer type','Gender','Payment','Product line']\n",
    "\n",
    "print(outliers_sales.groupby(['City','TimeOfDay']).size().sort_values(ascending=False), '\\n')\n",
    "for var in variables:\n",
    "  print(outliers_sales[var].value_counts(ascending=False), '\\n')"
   ]
  },
  {
   "cell_type": "markdown",
   "metadata": {
    "id": "nOW4pQhSZEso"
   },
   "source": [
    "**Key observations:**\n",
    "\n",
    "\n",
    "\n",
    "*   These high-value transactions occurred most frequently on **Wednesdays** and **Fridays**, primarily during the **afternoon**, with peaks observed in post-lunch hours.\n",
    "\n",
    "*   Geographically, a significant portion originated from **Naypyitaw**.\n",
    "\n",
    "*   Demographically, **female** customers accounted for the majority of these purchases.\n",
    "\n",
    "*   Interestingly, most were made by **non-members**, highlighting a potential area of inefficiency within the loyalty program.\n",
    "\n",
    "*   As for payment, the **credit card** was the most frequently used method, possibly due to its deferred payment capability.\n",
    "\n",
    "*   Finally, the dominant product categories among these outlier purchases were **Home and Lifestyle** and **Fashion Accessories**."
   ]
  },
  {
   "cell_type": "code",
   "execution_count": 161,
   "metadata": {
    "colab": {
     "base_uri": "https://localhost:8080/"
    },
    "id": "wlgX0mZ0qd_v",
    "outputId": "837281c4-cf28-4904-ae1f-35487194669c"
   },
   "outputs": [
    {
     "name": "stdout",
     "output_type": "stream",
     "text": [
      "Percentile: 90\n",
      "Sales: 718.91\n",
      "Delta: 21.48\n",
      "\n",
      "Percentile: 91\n",
      "Sales: 734.13\n",
      "Delta: 15.22\n",
      "\n",
      "Percentile: 92\n",
      "Sales: 749.94\n",
      "Delta: 15.8\n",
      "\n",
      "Percentile: 93\n",
      "Sales: 769.27\n",
      "Delta: 19.33\n",
      "\n",
      "Percentile: 94\n",
      "Sales: 793.77\n",
      "Delta: 24.5\n",
      "\n",
      "Percentile: 95\n",
      "Sales: 822.5\n",
      "Delta: 28.72\n",
      "\n",
      "Percentile: 96\n",
      "Sales: 836.57\n",
      "Delta: 14.08\n",
      "\n",
      "Percentile: 97\n",
      "Sales: 874.34\n",
      "Delta: 37.77\n",
      "\n",
      "Percentile: 98\n",
      "Sales: 931.06\n",
      "Delta: 56.72\n",
      "\n",
      "Percentile: 99\n",
      "Sales: 950.27\n",
      "Delta: 19.2\n",
      "\n"
     ]
    }
   ],
   "source": [
    "# Extract the Sales values in the quantiles 0.90 to 0.99\n",
    "\n",
    "for i in range(90, 100, 1):\n",
    "  pct_i = df['Sales'].quantile(i/100)\n",
    "  pct_prev = df['Sales'].quantile((i-1)/100)\n",
    "  delta = round(pct_i - pct_prev, 2)\n",
    "  print(f\"Percentile: {i}\")\n",
    "  print(f\"Sales: {round(df['Sales'].quantile(i/100), 2)}\")\n",
    "  print(f\"Delta: {delta}\\n\")"
   ]
  },
  {
   "cell_type": "markdown",
   "metadata": {
    "id": "zE44gaP9GVIW"
   },
   "source": [
    "**Understanding the results:**\n",
    "\n",
    "The sales outliers, while representing the top 1% of transactions, aren't excessively far from the 99th percentile. Moreover, the increase in these most extreme percentiles remains quite stable, hovering around 20-30%. This suggests we can reasonably consider these transactions as realistic."
   ]
  },
  {
   "cell_type": "markdown",
   "metadata": {
    "id": "DCpnepBv7J88"
   },
   "source": [
    "### Correlation Matrix"
   ]
  },
  {
   "cell_type": "code",
   "execution_count": 164,
   "metadata": {
    "colab": {
     "base_uri": "https://localhost:8080/",
     "height": 54
    },
    "id": "VfI2jXH67M64",
    "outputId": "f33b69a2-87e9-45b7-f8fe-383a84e2a0df"
   },
   "outputs": [
    {
     "data": {
      "image/png": "[encoded data removed]",
      "text/plain": [
       "<Figure size 800x600 with 2 Axes>"
      ]
     },
     "metadata": {},
     "output_type": "display_data"
    }
   ],
   "source": [
    "# Select only numerical columns from the DataFrame\n",
    "numeric_df = df.select_dtypes(include=['number'])\n",
    "\n",
    "# Calculate the correlation matrix for these numerical columns\n",
    "correlation_matrix = numeric_df.corr()\n",
    "#print(correlation_matrix)\n",
    "\n",
    "# Create a heatmap to visualize the correlation matrix\n",
    "plt.figure(figsize=(8,6))\n",
    "sns.heatmap(correlation_matrix, annot=True, cmap='coolwarm', fmt=\".2f\")\n",
    "plt.title('Correlation Matrix of Quantitative Variables')\n",
    "plt.show()"
   ]
  },
  {
   "cell_type": "markdown",
   "metadata": {
    "id": "vvapx4rqPoT_"
   },
   "source": [
    "**Understanding the results:**\n",
    "\n",
    "*   Surprisingly, **Quantity and Price** show almost no correlation, which goes against the expected negative relationship. This suggests that customers' purchasing habits aren't significantly affected by price changes.\n",
    "\n",
    "*   As anticipated, **Sales and COGS** are highly and positively correlated with both price and quantity, a natural outcome given their linear dependence on these variables.\n",
    "\n",
    "*   Lastly, **Rating** doesn't exhibit any strong correlations that would offer useful insights.\n",
    "\n",
    "\n",
    "\n",
    "\n",
    "\n",
    "\n",
    "\n"
   ]
  },
  {
   "cell_type": "markdown",
   "metadata": {
    "id": "rvGccIbnlmGG"
   },
   "source": [
    "### Frequency analysis"
   ]
  },
  {
   "cell_type": "code",
   "execution_count": 167,
   "metadata": {
    "colab": {
     "base_uri": "https://localhost:8080/"
    },
    "id": "VfvkgQ59lnbm",
    "outputId": "768abfcf-5f49-45a8-81dd-968b4016702c"
   },
   "outputs": [
    {
     "name": "stdout",
     "output_type": "stream",
     "text": [
      "Relative frequency: Branch\n",
      "Alex     34.0\n",
      "Cairo    33.2\n",
      "Giza     32.8\n",
      "Name: proportion, dtype: float64 \n",
      "\n",
      "Relative frequency: City\n",
      "Yangon       34.0\n",
      "Mandalay     33.2\n",
      "Naypyitaw    32.8\n",
      "Name: proportion, dtype: float64 \n",
      "\n",
      "Relative frequency: Customer type\n",
      "Member    56.5\n",
      "Normal    43.5\n",
      "Name: proportion, dtype: float64 \n",
      "\n",
      "Relative frequency: Gender\n",
      "Female    57.1\n",
      "Male      42.9\n",
      "Name: proportion, dtype: float64 \n",
      "\n",
      "Relative frequency: Product line\n",
      "Fashion accessories       17.8\n",
      "Food and beverages        17.4\n",
      "Electronic accessories    17.0\n",
      "Sports and travel         16.6\n",
      "Home and lifestyle        16.0\n",
      "Health and beauty         15.2\n",
      "Name: proportion, dtype: float64 \n",
      "\n",
      "Relative frequency: Payment\n",
      "Ewallet        34.5\n",
      "Cash           34.4\n",
      "Credit card    31.1\n",
      "Name: proportion, dtype: float64 \n",
      "\n",
      "Relative frequency: DayOfWeek\n",
      "Saturday     16.4\n",
      "Tuesday      15.8\n",
      "Wednesday    14.3\n",
      "Friday       13.9\n",
      "Thursday     13.8\n",
      "Sunday       13.3\n",
      "Monday       12.5\n",
      "Name: proportion, dtype: float64 \n",
      "\n",
      "Relative frequency: TimeOfDay\n",
      "Afternoon    52.8\n",
      "Evening      28.1\n",
      "Morning      19.1\n",
      "Name: proportion, dtype: float64 \n",
      "\n",
      "Mode\n",
      "Branch: ['Alex']\n",
      "City: ['Yangon']\n",
      "Customer type: ['Member']\n",
      "Gender: ['Female']\n",
      "Product line: ['Fashion accessories']\n",
      "Payment: ['Ewallet']\n",
      "DayOfWeek: ['Saturday']\n",
      "TimeOfDay: ['Afternoon']\n"
     ]
    }
   ],
   "source": [
    "# Select only the categorical variables\n",
    "categorical_var = df.drop(columns = 'Invoice ID').select_dtypes(include='object').columns\n",
    "\n",
    "# Calculate the relative frequency\n",
    "for var in categorical_var:\n",
    "  freq_abs = df[var].value_counts(normalize = True)*100\n",
    "  print(f'Relative frequency: {freq_abs} \\n')\n",
    "\n",
    "# Show the mode\n",
    "print('Mode')\n",
    "for var in categorical_var:\n",
    "  print(f'{var}: {list(df[var].mode())}')\n"
   ]
  },
  {
   "cell_type": "markdown",
   "metadata": {
    "id": "mE_QEqiShcrp"
   },
   "source": [
    "**Understanding the result:**\n",
    "\n",
    "*   **Balanced Sales Across Locations**: Sales activity is well distributed geographically, with branches and cities showing nearly equal representation.\n",
    "\n",
    "*   **Loyalty Program Insights**: While most transactions are from loyalty program members, interestingly, most high-value (outlier) purchases are made by non-members. This suggests the loyalty program might not be effectively engaging or rewarding its top-spending customers.\n",
    "\n",
    "*   **Demographics**: Female customers account for the majority of overall transactions, a trend consistent with their prevalence among outlier purchases.\n",
    "\n",
    "*   **Product Preferences**: Sales are fairly even across product lines. Fashion Accessories lead slightly, a trend also observed in the outlier analysis.\n",
    "\n",
    "*   **Time of Purchase**: Transactions are more frequent in the afternoon and evening, supporting the pattern found among outlier purchases.\n",
    "\n",
    "*   **Payment Methods**: Payment preferences are quite balanced. E-wallets are slightly more common, while Credit Cards are the least used overall. This reinforces the idea that high-value customers might prefer credit cards for their flexibility or deferred payment options when making larger expenditures.\n",
    "\n",
    "*   **Weekday Patterns**: Customer demand remains steady throughout the week with minor fluctuations. Monday is the least active day, and Saturday the most active, aligning with typical shopping behavior where people shop less at the start of the workweek and more on their days off.\n",
    "\n",
    "\n",
    "\n",
    "\n"
   ]
  },
  {
   "cell_type": "markdown",
   "metadata": {
    "id": "mX7CNDm9c8xg"
   },
   "source": [
    "### Single-variable exploration"
   ]
  },
  {
   "cell_type": "code",
   "execution_count": 170,
   "metadata": {
    "colab": {
     "base_uri": "https://localhost:8080/"
    },
    "id": "x8nMwyS9l02m",
    "outputId": "692b812a-d428-4d95-cad3-4943622d55e4"
   },
   "outputs": [
    {
     "name": "stdout",
     "output_type": "stream",
     "text": [
      "City\n",
      "Naypyitaw    337.099715\n",
      "Mandalay     319.872506\n",
      "Yangon       312.354031\n",
      "Name: Sales, dtype: float64 \n",
      "\n",
      "Customer type\n",
      "Member    335.742945\n",
      "Normal    306.372379\n",
      "Name: Sales, dtype: float64 \n",
      "\n",
      "Gender\n",
      "Female    340.931414\n",
      "Male      299.055738\n",
      "Name: Sales, dtype: float64 \n",
      "\n",
      "Product line\n",
      "Home and lifestyle        336.636956\n",
      "Sports and travel         332.065220\n",
      "Health and beauty         323.643020\n",
      "Food and beverages        322.671517\n",
      "Electronic accessories    319.632538\n",
      "Fashion accessories       305.089298\n",
      "Name: Sales, dtype: float64 \n",
      "\n",
      "Payment\n",
      "Cash           326.181890\n",
      "Credit card    324.009878\n",
      "Ewallet        318.820600\n",
      "Name: Sales, dtype: float64 \n",
      "\n",
      "DayOfWeek\n",
      "Saturday     342.200058\n",
      "Sunday       334.269868\n",
      "Thursday     328.617739\n",
      "Tuesday      325.836997\n",
      "Friday       316.016838\n",
      "Wednesday    305.812133\n",
      "Monday       303.192624\n",
      "Name: Sales, dtype: float64 \n",
      "\n",
      "TimeOfDay\n",
      "Afternoon    326.644997\n",
      "Morning      323.553982\n",
      "Evening      315.656157\n",
      "Name: Sales, dtype: float64 \n",
      "\n"
     ]
    }
   ],
   "source": [
    "var = ['City', 'Customer type', 'Gender', 'Product line', 'Payment', 'DayOfWeek', 'TimeOfDay']\n",
    "\n",
    "for i in var:\n",
    "  print(df.groupby(i)['Sales'].mean().sort_values(ascending=False),'\\n')"
   ]
  },
  {
   "cell_type": "markdown",
   "metadata": {
    "id": "UWljIuyKpVKw"
   },
   "source": [
    "**Understanding the result:**\n",
    "\n",
    "*   **Location Performance**: Naypyitaw stands out with the highest average sales per transaction, aligning with our earlier finding that it's a primary source of high-value outlier purchases.\n",
    "\n",
    "*   **Loyalty Program Effectiveness**: While loyalty program members generally show a higher average sales value per transaction, the fact that most outlier purchases are made by non-members confirms the need to improve the loyalty program's effectiveness.\n",
    "\n",
    "*   **Gender and Sales**: Female customers demonstrate significantly higher average sales per transaction compared to male customers, reinforcing previous observations.\n",
    "\n",
    "*   **Product Line Profitability**: 'Home and lifestyle' and 'Sports and travel' product lines boast the highest average sales per transaction. This is consistent with 'Home and lifestyle' being a leading category among outliers. However, 'Fashion accessories' is surprisingly the least profitable category, which contradicts initial expectations from previous analyses.\n",
    "\n",
    "*   **Payment Method Trends**: Cash and Credit card payments show slightly higher average sales per transaction. This aligns with earlier insights, suggesting high-value customers might favor credit cards for their flexibility. E-wallet, despite its overall prevalence, shows only a tiny difference in average sales compared to other payment methods.\n",
    "\n",
    "*   **Weekday Sales Dynamics**: Saturdays exhibit the highest average sales per transaction, while Mondays have the lowest, mirroring typical shopping behavior. Interestingly, Wednesdays and Fridays, despite having lower overall average sales, were also the days with the most frequent outliers. This suggests that the average sales on these days are primarily driven by low-value customers.\n",
    "\n",
    "*   **Time of Day Impact**: Transactions occurring in the afternoon show the highest average sales, which is consistent with previous findings.\n",
    "\n",
    "\n",
    "\n",
    "\n",
    "\n",
    "\n",
    "\n",
    "\n",
    "\n"
   ]
  },
  {
   "cell_type": "markdown",
   "metadata": {
    "id": "d878NHWj62u7"
   },
   "source": [
    "### Multi-variables exploration"
   ]
  },
  {
   "cell_type": "code",
   "execution_count": 173,
   "metadata": {
    "colab": {
     "base_uri": "https://localhost:8080/"
    },
    "id": "hI4QyPiezaUI",
    "outputId": "888ddcfe-7fec-4339-a442-b008189cfdfe"
   },
   "outputs": [
    {
     "name": "stdout",
     "output_type": "stream",
     "text": [
      "                     sum                    mean            \n",
      "Customer type     Member      Normal      Member      Normal\n",
      "City                                                        \n",
      "Mandalay       59824.170  46373.5020  330.520276  307.109285\n",
      "Naypyitaw      66974.817  43593.8895  345.231015  325.327534\n",
      "Yangon         62895.777  43304.5935  331.030405  288.697290 \n",
      "\n",
      "                               sum                    mean            \n",
      "Gender                      Female        Male      Female        Male\n",
      "Product line                                                          \n",
      "Electronic accessories  31226.7060  23110.8255  332.199000  304.089809\n",
      "Fashion accessories     33919.6410  20386.2540  314.070750  291.232200\n",
      "Food and beverages      36465.7965  19679.0475  372.099964  258.934836\n",
      "Health and beauty       23418.7275  25775.0115  304.139318  343.666820\n",
      "Home and lifestyle      33720.5820  20141.3310  370.555846  291.903348\n",
      "Sports and travel       35920.3845  19202.4420  348.741597  304.800667 \n",
      "\n",
      "                      sum                    mean            \n",
      "Customer type      Member      Normal      Member      Normal\n",
      "Payment                                                      \n",
      "Cash           64326.6435  47879.9265  335.034602  314.999516\n",
      "Credit card    63530.3340  37236.7380  339.734406  300.296274\n",
      "Ewallet        61837.7865  48155.3205  332.461218  302.863651 \n",
      "\n",
      "                  sum                                mean              \\\n",
      "TimeOfDay   Afternoon     Evening     Morning   Afternoon     Evening   \n",
      "DayOfWeek                                                               \n",
      "Friday     22831.6410  12773.7225   8320.9770  308.535689  354.825625   \n",
      "Monday     23500.6800   7787.3460   6611.0520  313.342400  268.529172   \n",
      "Saturday   28296.7020  19041.2040   8782.9035  349.342000  346.203709   \n",
      "Sunday     23656.3005  11997.4785   8804.1135  337.947150  292.621427   \n",
      "Thursday   23329.2255  10731.9030  11288.1195  306.963493  370.065621   \n",
      "Tuesday    26481.9450  15190.9485   9809.3520  372.985141  297.861735   \n",
      "Wednesday  24372.0645  11176.7775   8182.2930  300.889685  279.419438   \n",
      "\n",
      "                       \n",
      "TimeOfDay     Morning  \n",
      "DayOfWeek              \n",
      "Friday     286.930241  \n",
      "Monday     314.812000  \n",
      "Saturday   313.675125  \n",
      "Sunday     400.186977  \n",
      "Thursday   342.064227  \n",
      "Tuesday    272.482000  \n",
      "Wednesday  371.922409   \n",
      "\n"
     ]
    }
   ],
   "source": [
    "print(\n",
    "    df.pivot_table(\n",
    "    values = 'Sales',\n",
    "    index = 'City',\n",
    "    columns = 'Customer type',\n",
    "    aggfunc= ['sum','mean'],\n",
    "    fill_value=0\n",
    "  ),\n",
    "    '\\n')\n",
    "\n",
    "print(\n",
    "    df.pivot_table(\n",
    "    values = 'Sales',\n",
    "    index = 'Product line',\n",
    "    columns = 'Gender',\n",
    "    aggfunc= ['sum','mean'],\n",
    "    fill_value=0\n",
    "  ),\n",
    "    '\\n')\n",
    "\n",
    "print(\n",
    "    df.pivot_table(\n",
    "    values = 'Sales',\n",
    "    index = 'Payment',\n",
    "    columns = 'Customer type',\n",
    "    aggfunc= ['sum','mean'],\n",
    "    fill_value=0\n",
    "  ),\n",
    "    '\\n')\n",
    "\n",
    "print(\n",
    "    df.pivot_table(\n",
    "    values = 'Sales',\n",
    "    index = 'DayOfWeek',\n",
    "    columns = 'TimeOfDay',\n",
    "    aggfunc= ['sum','mean'],\n",
    "    fill_value=0\n",
    "  ),\n",
    "    '\\n')"
   ]
  },
  {
   "cell_type": "markdown",
   "metadata": {
    "id": "ivS0zRusHO6v"
   },
   "source": [
    "**Understanding the result**\n",
    "\n",
    " **Health and beauty** stands out as the only product category where male customers contribute more to sales than female customers.\n",
    "\n",
    "\n",
    "\n"
   ]
  },
  {
   "cell_type": "markdown",
   "metadata": {
    "id": "we6InYoapOwZ"
   },
   "source": [
    "## Label Encoding"
   ]
  },
  {
   "cell_type": "code",
   "execution_count": 176,
   "metadata": {
    "colab": {
     "base_uri": "https://localhost:8080/",
     "height": 394
    },
    "id": "KYkK4Q8nof1w",
    "outputId": "882b9e11-c702-4253-bba2-db4b14e1abd3"
   },
   "outputs": [
    {
     "data": {
      "text/html": [
       "<div>\n",
       "<style scoped>\n",
       "    .dataframe tbody tr th:only-of-type {\n",
       "        vertical-align: middle;\n",
       "    }\n",
       "\n",
       "    .dataframe tbody tr th {\n",
       "        vertical-align: top;\n",
       "    }\n",
       "\n",
       "    .dataframe thead th {\n",
       "        text-align: right;\n",
       "    }\n",
       "</style>\n",
       "<table border=\"1\" class=\"dataframe\">\n",
       "  <thead>\n",
       "    <tr style=\"text-align: right;\">\n",
       "      <th></th>\n",
       "      <th>Invoice ID</th>\n",
       "      <th>Branch</th>\n",
       "      <th>Unit price</th>\n",
       "      <th>Quantity</th>\n",
       "      <th>Tax 5%</th>\n",
       "      <th>Sales</th>\n",
       "      <th>Date</th>\n",
       "      <th>Time</th>\n",
       "      <th>cogs</th>\n",
       "      <th>gross margin percentage</th>\n",
       "      <th>...</th>\n",
       "      <th>City_Yangon</th>\n",
       "      <th>Gender_Male</th>\n",
       "      <th>Customer type_Normal</th>\n",
       "      <th>Product line_Fashion accessories</th>\n",
       "      <th>Product line_Food and beverages</th>\n",
       "      <th>Product line_Health and beauty</th>\n",
       "      <th>Product line_Home and lifestyle</th>\n",
       "      <th>Product line_Sports and travel</th>\n",
       "      <th>Payment_Credit card</th>\n",
       "      <th>Payment_Ewallet</th>\n",
       "    </tr>\n",
       "  </thead>\n",
       "  <tbody>\n",
       "    <tr>\n",
       "      <th>0</th>\n",
       "      <td>750-67-8428</td>\n",
       "      <td>Alex</td>\n",
       "      <td>74.69</td>\n",
       "      <td>7</td>\n",
       "      <td>26.1415</td>\n",
       "      <td>548.9715</td>\n",
       "      <td>2019-01-05</td>\n",
       "      <td>2025-07-04 13:08:00</td>\n",
       "      <td>522.83</td>\n",
       "      <td>4.761905</td>\n",
       "      <td>...</td>\n",
       "      <td>True</td>\n",
       "      <td>False</td>\n",
       "      <td>False</td>\n",
       "      <td>False</td>\n",
       "      <td>False</td>\n",
       "      <td>True</td>\n",
       "      <td>False</td>\n",
       "      <td>False</td>\n",
       "      <td>False</td>\n",
       "      <td>True</td>\n",
       "    </tr>\n",
       "    <tr>\n",
       "      <th>1</th>\n",
       "      <td>226-31-3081</td>\n",
       "      <td>Giza</td>\n",
       "      <td>15.28</td>\n",
       "      <td>5</td>\n",
       "      <td>3.8200</td>\n",
       "      <td>80.2200</td>\n",
       "      <td>2019-03-08</td>\n",
       "      <td>2025-07-04 10:29:00</td>\n",
       "      <td>76.40</td>\n",
       "      <td>4.761905</td>\n",
       "      <td>...</td>\n",
       "      <td>False</td>\n",
       "      <td>False</td>\n",
       "      <td>True</td>\n",
       "      <td>False</td>\n",
       "      <td>False</td>\n",
       "      <td>False</td>\n",
       "      <td>False</td>\n",
       "      <td>False</td>\n",
       "      <td>False</td>\n",
       "      <td>False</td>\n",
       "    </tr>\n",
       "    <tr>\n",
       "      <th>2</th>\n",
       "      <td>631-41-3108</td>\n",
       "      <td>Alex</td>\n",
       "      <td>46.33</td>\n",
       "      <td>7</td>\n",
       "      <td>16.2155</td>\n",
       "      <td>340.5255</td>\n",
       "      <td>2019-03-03</td>\n",
       "      <td>2025-07-04 13:23:00</td>\n",
       "      <td>324.31</td>\n",
       "      <td>4.761905</td>\n",
       "      <td>...</td>\n",
       "      <td>True</td>\n",
       "      <td>False</td>\n",
       "      <td>True</td>\n",
       "      <td>False</td>\n",
       "      <td>False</td>\n",
       "      <td>False</td>\n",
       "      <td>True</td>\n",
       "      <td>False</td>\n",
       "      <td>True</td>\n",
       "      <td>False</td>\n",
       "    </tr>\n",
       "    <tr>\n",
       "      <th>3</th>\n",
       "      <td>123-19-1176</td>\n",
       "      <td>Alex</td>\n",
       "      <td>58.22</td>\n",
       "      <td>8</td>\n",
       "      <td>23.2880</td>\n",
       "      <td>489.0480</td>\n",
       "      <td>2019-01-27</td>\n",
       "      <td>2025-07-04 20:33:00</td>\n",
       "      <td>465.76</td>\n",
       "      <td>4.761905</td>\n",
       "      <td>...</td>\n",
       "      <td>True</td>\n",
       "      <td>False</td>\n",
       "      <td>False</td>\n",
       "      <td>False</td>\n",
       "      <td>False</td>\n",
       "      <td>True</td>\n",
       "      <td>False</td>\n",
       "      <td>False</td>\n",
       "      <td>False</td>\n",
       "      <td>True</td>\n",
       "    </tr>\n",
       "    <tr>\n",
       "      <th>4</th>\n",
       "      <td>373-73-7910</td>\n",
       "      <td>Alex</td>\n",
       "      <td>86.31</td>\n",
       "      <td>7</td>\n",
       "      <td>30.2085</td>\n",
       "      <td>634.3785</td>\n",
       "      <td>2019-02-08</td>\n",
       "      <td>2025-07-04 10:37:00</td>\n",
       "      <td>604.17</td>\n",
       "      <td>4.761905</td>\n",
       "      <td>...</td>\n",
       "      <td>True</td>\n",
       "      <td>False</td>\n",
       "      <td>False</td>\n",
       "      <td>False</td>\n",
       "      <td>False</td>\n",
       "      <td>False</td>\n",
       "      <td>False</td>\n",
       "      <td>True</td>\n",
       "      <td>False</td>\n",
       "      <td>True</td>\n",
       "    </tr>\n",
       "  </tbody>\n",
       "</table>\n",
       "<p>5 rows × 26 columns</p>\n",
       "</div>"
      ],
      "text/plain": [
       "    Invoice ID Branch  Unit price  Quantity   Tax 5%     Sales       Date  \\\n",
       "0  750-67-8428   Alex       74.69         7  26.1415  548.9715 2019-01-05   \n",
       "1  226-31-3081   Giza       15.28         5   3.8200   80.2200 2019-03-08   \n",
       "2  631-41-3108   Alex       46.33         7  16.2155  340.5255 2019-03-03   \n",
       "3  123-19-1176   Alex       58.22         8  23.2880  489.0480 2019-01-27   \n",
       "4  373-73-7910   Alex       86.31         7  30.2085  634.3785 2019-02-08   \n",
       "\n",
       "                 Time    cogs  gross margin percentage  ...  City_Yangon  \\\n",
       "0 2025-07-04 13:08:00  522.83                 4.761905  ...         True   \n",
       "1 2025-07-04 10:29:00   76.40                 4.761905  ...        False   \n",
       "2 2025-07-04 13:23:00  324.31                 4.761905  ...         True   \n",
       "3 2025-07-04 20:33:00  465.76                 4.761905  ...         True   \n",
       "4 2025-07-04 10:37:00  604.17                 4.761905  ...         True   \n",
       "\n",
       "   Gender_Male Customer type_Normal  Product line_Fashion accessories  \\\n",
       "0        False                False                             False   \n",
       "1        False                 True                             False   \n",
       "2        False                 True                             False   \n",
       "3        False                False                             False   \n",
       "4        False                False                             False   \n",
       "\n",
       "  Product line_Food and beverages  Product line_Health and beauty  \\\n",
       "0                           False                            True   \n",
       "1                           False                           False   \n",
       "2                           False                           False   \n",
       "3                           False                            True   \n",
       "4                           False                           False   \n",
       "\n",
       "   Product line_Home and lifestyle  Product line_Sports and travel  \\\n",
       "0                            False                           False   \n",
       "1                            False                           False   \n",
       "2                             True                           False   \n",
       "3                            False                           False   \n",
       "4                            False                            True   \n",
       "\n",
       "   Payment_Credit card  Payment_Ewallet  \n",
       "0                False             True  \n",
       "1                False            False  \n",
       "2                 True            False  \n",
       "3                False             True  \n",
       "4                False             True  \n",
       "\n",
       "[5 rows x 26 columns]"
      ]
     },
     "execution_count": 176,
     "metadata": {},
     "output_type": "execute_result"
    }
   ],
   "source": [
    "cat_variables = ['City', 'Gender', 'Customer type', 'Product line', 'Payment']\n",
    "\n",
    "# Convert the categorical variables into dummy format\n",
    "df_encoded = pd.get_dummies(df, columns=cat_variables, drop_first=True)\n",
    "df_encoded.head()"
   ]
  },
  {
   "cell_type": "code",
   "execution_count": 177,
   "metadata": {
    "colab": {
     "base_uri": "https://localhost:8080/",
     "height": 206
    },
    "id": "aTecUrP4Nz3Z",
    "outputId": "35c1f0a9-3a35-4076-e6fc-989e9e1d7193"
   },
   "outputs": [
    {
     "data": {
      "text/html": [
       "<div>\n",
       "<style scoped>\n",
       "    .dataframe tbody tr th:only-of-type {\n",
       "        vertical-align: middle;\n",
       "    }\n",
       "\n",
       "    .dataframe tbody tr th {\n",
       "        vertical-align: top;\n",
       "    }\n",
       "\n",
       "    .dataframe thead th {\n",
       "        text-align: right;\n",
       "    }\n",
       "</style>\n",
       "<table border=\"1\" class=\"dataframe\">\n",
       "  <thead>\n",
       "    <tr style=\"text-align: right;\">\n",
       "      <th></th>\n",
       "      <th>DayOfWeek_encoded</th>\n",
       "      <th>TimeOfDay_encoded</th>\n",
       "    </tr>\n",
       "  </thead>\n",
       "  <tbody>\n",
       "    <tr>\n",
       "      <th>0</th>\n",
       "      <td>5</td>\n",
       "      <td>1</td>\n",
       "    </tr>\n",
       "    <tr>\n",
       "      <th>1</th>\n",
       "      <td>4</td>\n",
       "      <td>0</td>\n",
       "    </tr>\n",
       "    <tr>\n",
       "      <th>2</th>\n",
       "      <td>6</td>\n",
       "      <td>1</td>\n",
       "    </tr>\n",
       "    <tr>\n",
       "      <th>3</th>\n",
       "      <td>6</td>\n",
       "      <td>2</td>\n",
       "    </tr>\n",
       "    <tr>\n",
       "      <th>4</th>\n",
       "      <td>4</td>\n",
       "      <td>0</td>\n",
       "    </tr>\n",
       "  </tbody>\n",
       "</table>\n",
       "</div>"
      ],
      "text/plain": [
       "   DayOfWeek_encoded  TimeOfDay_encoded\n",
       "0                  5                  1\n",
       "1                  4                  0\n",
       "2                  6                  1\n",
       "3                  6                  2\n",
       "4                  4                  0"
      ]
     },
     "execution_count": 177,
     "metadata": {},
     "output_type": "execute_result"
    }
   ],
   "source": [
    "# Convert DayOfWeek and TimeOfDay into numeric variables\n",
    "\n",
    "DayOfWeek_mapping = {\n",
    "    \"Monday\": 0,\n",
    "    \"Tuesday\": 1,\n",
    "    \"Wednesday\": 2,\n",
    "    \"Thursday\": 3,\n",
    "    \"Friday\": 4,\n",
    "    \"Saturday\": 5,\n",
    "    \"Sunday\": 6\n",
    "}\n",
    "\n",
    "TimeOfDay_mapping = {\n",
    "    'Morning': 0,\n",
    "    'Afternoon': 1,\n",
    "    'Evening': 2\n",
    "}\n",
    "\n",
    "df_encoded['DayOfWeek_encoded'] = df_encoded['DayOfWeek'].map(DayOfWeek_mapping)\n",
    "df_encoded['TimeOfDay_encoded'] = df_encoded['TimeOfDay'].map(TimeOfDay_mapping)\n",
    "\n",
    "df_encoded[['DayOfWeek_encoded', 'TimeOfDay_encoded']].head()"
   ]
  },
  {
   "cell_type": "markdown",
   "metadata": {
    "id": "gsncaaOz-_bj"
   },
   "source": [
    "\\## Clustering"
   ]
  },
  {
   "cell_type": "code",
   "execution_count": 179,
   "metadata": {
    "id": "ijNX3eUBk-e1"
   },
   "outputs": [],
   "source": [
    "# Define different variable combinations to cluster the customers\n",
    "\n",
    "input1 = ['Sales', 'Quantity', 'Unit price', 'Customer type_Normal', 'Gender_Male', 'City_Naypyitaw', 'City_Yangon', 'Product line_Home and lifestyle']\n",
    "input2 = ['Sales', 'Quantity', 'TimeOfDay_encoded', 'Customer type_Normal']\n",
    "input3 = ['Sales', 'Quantity', 'Unit price', 'Customer type_Normal']\n",
    "input4 = ['Sales', 'Quantity', 'Unit price', 'Payment_Credit card']\n",
    "input5 = ['Sales', 'Quantity', 'Unit price', 'Gender_Male']\n",
    "input6 = ['Sales', 'Quantity', 'Unit price']\n",
    "all_inputs = [input1, input2, input3, input4, input5, input6]"
   ]
  },
  {
   "cell_type": "code",
   "execution_count": 180,
   "metadata": {
    "colab": {
     "base_uri": "https://localhost:8080/",
     "height": 686
    },
    "id": "KfCb5uLrjwmb",
    "outputId": "3f8d3e1d-bcf9-4e0b-d2ab-c823eaab9475"
   },
   "outputs": [
    {
     "ename": "AttributeError",
     "evalue": "'NoneType' object has no attribute 'split'",
     "output_type": "error",
     "traceback": [
      "\u001b[1;31m---------------------------------------------------------------------------\u001b[0m",
      "\u001b[1;31mAttributeError\u001b[0m                            Traceback (most recent call last)",
      "Cell \u001b[1;32mIn[180], line 13\u001b[0m\n\u001b[0;32m     11\u001b[0m \u001b[38;5;66;03m# Apply K-Means\u001b[39;00m\n\u001b[0;32m     12\u001b[0m kmeans \u001b[38;5;241m=\u001b[39m KMeans(n_clusters\u001b[38;5;241m=\u001b[39m\u001b[38;5;241m3\u001b[39m, random_state\u001b[38;5;241m=\u001b[39m\u001b[38;5;241m42\u001b[39m)\n\u001b[1;32m---> 13\u001b[0m df_encoded[\u001b[38;5;124m'\u001b[39m\u001b[38;5;124mCustomer Segment\u001b[39m\u001b[38;5;124m'\u001b[39m] \u001b[38;5;241m=\u001b[39m kmeans\u001b[38;5;241m.\u001b[39mfit_predict(customer_data_scaled)\n\u001b[0;32m     15\u001b[0m \u001b[38;5;66;03m# Visualize Clusters\u001b[39;00m\n\u001b[0;32m     16\u001b[0m plt\u001b[38;5;241m.\u001b[39msubplot(\u001b[38;5;241m2\u001b[39m, \u001b[38;5;241m3\u001b[39m, i)\n",
      "File \u001b[1;32mD:\\Users\\Stefano\\anaconda3\\Lib\\site-packages\\sklearn\\cluster\\_kmeans.py:1071\u001b[0m, in \u001b[0;36m_BaseKMeans.fit_predict\u001b[1;34m(self, X, y, sample_weight)\u001b[0m\n\u001b[0;32m   1048\u001b[0m \u001b[38;5;28;01mdef\u001b[39;00m \u001b[38;5;21mfit_predict\u001b[39m(\u001b[38;5;28mself\u001b[39m, X, y\u001b[38;5;241m=\u001b[39m\u001b[38;5;28;01mNone\u001b[39;00m, sample_weight\u001b[38;5;241m=\u001b[39m\u001b[38;5;28;01mNone\u001b[39;00m):\n\u001b[0;32m   1049\u001b[0m \u001b[38;5;250m    \u001b[39m\u001b[38;5;124;03m\"\"\"Compute cluster centers and predict cluster index for each sample.\u001b[39;00m\n\u001b[0;32m   1050\u001b[0m \n\u001b[0;32m   1051\u001b[0m \u001b[38;5;124;03m    Convenience method; equivalent to calling fit(X) followed by\u001b[39;00m\n\u001b[1;32m   (...)\u001b[0m\n\u001b[0;32m   1069\u001b[0m \u001b[38;5;124;03m        Index of the cluster each sample belongs to.\u001b[39;00m\n\u001b[0;32m   1070\u001b[0m \u001b[38;5;124;03m    \"\"\"\u001b[39;00m\n\u001b[1;32m-> 1071\u001b[0m     \u001b[38;5;28;01mreturn\u001b[39;00m \u001b[38;5;28mself\u001b[39m\u001b[38;5;241m.\u001b[39mfit(X, sample_weight\u001b[38;5;241m=\u001b[39msample_weight)\u001b[38;5;241m.\u001b[39mlabels_\n",
      "File \u001b[1;32mD:\\Users\\Stefano\\anaconda3\\Lib\\site-packages\\sklearn\\base.py:1474\u001b[0m, in \u001b[0;36m_fit_context.<locals>.decorator.<locals>.wrapper\u001b[1;34m(estimator, *args, **kwargs)\u001b[0m\n\u001b[0;32m   1467\u001b[0m     estimator\u001b[38;5;241m.\u001b[39m_validate_params()\n\u001b[0;32m   1469\u001b[0m \u001b[38;5;28;01mwith\u001b[39;00m config_context(\n\u001b[0;32m   1470\u001b[0m     skip_parameter_validation\u001b[38;5;241m=\u001b[39m(\n\u001b[0;32m   1471\u001b[0m         prefer_skip_nested_validation \u001b[38;5;129;01mor\u001b[39;00m global_skip_validation\n\u001b[0;32m   1472\u001b[0m     )\n\u001b[0;32m   1473\u001b[0m ):\n\u001b[1;32m-> 1474\u001b[0m     \u001b[38;5;28;01mreturn\u001b[39;00m fit_method(estimator, \u001b[38;5;241m*\u001b[39margs, \u001b[38;5;241m*\u001b[39m\u001b[38;5;241m*\u001b[39mkwargs)\n",
      "File \u001b[1;32mD:\\Users\\Stefano\\anaconda3\\Lib\\site-packages\\sklearn\\cluster\\_kmeans.py:1536\u001b[0m, in \u001b[0;36mKMeans.fit\u001b[1;34m(self, X, y, sample_weight)\u001b[0m\n\u001b[0;32m   1533\u001b[0m     \u001b[38;5;28mprint\u001b[39m(\u001b[38;5;124m\"\u001b[39m\u001b[38;5;124mInitialization complete\u001b[39m\u001b[38;5;124m\"\u001b[39m)\n\u001b[0;32m   1535\u001b[0m \u001b[38;5;66;03m# run a k-means once\u001b[39;00m\n\u001b[1;32m-> 1536\u001b[0m labels, inertia, centers, n_iter_ \u001b[38;5;241m=\u001b[39m kmeans_single(\n\u001b[0;32m   1537\u001b[0m     X,\n\u001b[0;32m   1538\u001b[0m     sample_weight,\n\u001b[0;32m   1539\u001b[0m     centers_init,\n\u001b[0;32m   1540\u001b[0m     max_iter\u001b[38;5;241m=\u001b[39m\u001b[38;5;28mself\u001b[39m\u001b[38;5;241m.\u001b[39mmax_iter,\n\u001b[0;32m   1541\u001b[0m     verbose\u001b[38;5;241m=\u001b[39m\u001b[38;5;28mself\u001b[39m\u001b[38;5;241m.\u001b[39mverbose,\n\u001b[0;32m   1542\u001b[0m     tol\u001b[38;5;241m=\u001b[39m\u001b[38;5;28mself\u001b[39m\u001b[38;5;241m.\u001b[39m_tol,\n\u001b[0;32m   1543\u001b[0m     n_threads\u001b[38;5;241m=\u001b[39m\u001b[38;5;28mself\u001b[39m\u001b[38;5;241m.\u001b[39m_n_threads,\n\u001b[0;32m   1544\u001b[0m )\n\u001b[0;32m   1546\u001b[0m \u001b[38;5;66;03m# determine if these results are the best so far\u001b[39;00m\n\u001b[0;32m   1547\u001b[0m \u001b[38;5;66;03m# we chose a new run if it has a better inertia and the clustering is\u001b[39;00m\n\u001b[0;32m   1548\u001b[0m \u001b[38;5;66;03m# different from the best so far (it's possible that the inertia is\u001b[39;00m\n\u001b[0;32m   1549\u001b[0m \u001b[38;5;66;03m# slightly better even if the clustering is the same with potentially\u001b[39;00m\n\u001b[0;32m   1550\u001b[0m \u001b[38;5;66;03m# permuted labels, due to rounding errors)\u001b[39;00m\n\u001b[0;32m   1551\u001b[0m \u001b[38;5;28;01mif\u001b[39;00m best_inertia \u001b[38;5;129;01mis\u001b[39;00m \u001b[38;5;28;01mNone\u001b[39;00m \u001b[38;5;129;01mor\u001b[39;00m (\n\u001b[0;32m   1552\u001b[0m     inertia \u001b[38;5;241m<\u001b[39m best_inertia\n\u001b[0;32m   1553\u001b[0m     \u001b[38;5;129;01mand\u001b[39;00m \u001b[38;5;129;01mnot\u001b[39;00m _is_same_clustering(labels, best_labels, \u001b[38;5;28mself\u001b[39m\u001b[38;5;241m.\u001b[39mn_clusters)\n\u001b[0;32m   1554\u001b[0m ):\n",
      "File \u001b[1;32mD:\\Users\\Stefano\\anaconda3\\Lib\\site-packages\\sklearn\\cluster\\_kmeans.py:702\u001b[0m, in \u001b[0;36m_kmeans_single_lloyd\u001b[1;34m(X, sample_weight, centers_init, max_iter, verbose, tol, n_threads)\u001b[0m\n\u001b[0;32m    698\u001b[0m strict_convergence \u001b[38;5;241m=\u001b[39m \u001b[38;5;28;01mFalse\u001b[39;00m\n\u001b[0;32m    700\u001b[0m \u001b[38;5;66;03m# Threadpoolctl context to limit the number of threads in second level of\u001b[39;00m\n\u001b[0;32m    701\u001b[0m \u001b[38;5;66;03m# nested parallelism (i.e. BLAS) to avoid oversubscription.\u001b[39;00m\n\u001b[1;32m--> 702\u001b[0m \u001b[38;5;28;01mwith\u001b[39;00m threadpool_limits(limits\u001b[38;5;241m=\u001b[39m\u001b[38;5;241m1\u001b[39m, user_api\u001b[38;5;241m=\u001b[39m\u001b[38;5;124m\"\u001b[39m\u001b[38;5;124mblas\u001b[39m\u001b[38;5;124m\"\u001b[39m):\n\u001b[0;32m    703\u001b[0m     \u001b[38;5;28;01mfor\u001b[39;00m i \u001b[38;5;129;01min\u001b[39;00m \u001b[38;5;28mrange\u001b[39m(max_iter):\n\u001b[0;32m    704\u001b[0m         lloyd_iter(\n\u001b[0;32m    705\u001b[0m             X,\n\u001b[0;32m    706\u001b[0m             sample_weight,\n\u001b[1;32m   (...)\u001b[0m\n\u001b[0;32m    712\u001b[0m             n_threads,\n\u001b[0;32m    713\u001b[0m         )\n",
      "File \u001b[1;32mD:\\Users\\Stefano\\anaconda3\\Lib\\site-packages\\sklearn\\utils\\fixes.py:94\u001b[0m, in \u001b[0;36mthreadpool_limits\u001b[1;34m(limits, user_api)\u001b[0m\n\u001b[0;32m     92\u001b[0m     \u001b[38;5;28;01mreturn\u001b[39;00m controller\u001b[38;5;241m.\u001b[39mlimit(limits\u001b[38;5;241m=\u001b[39mlimits, user_api\u001b[38;5;241m=\u001b[39muser_api)\n\u001b[0;32m     93\u001b[0m \u001b[38;5;28;01melse\u001b[39;00m:\n\u001b[1;32m---> 94\u001b[0m     \u001b[38;5;28;01mreturn\u001b[39;00m threadpoolctl\u001b[38;5;241m.\u001b[39mthreadpool_limits(limits\u001b[38;5;241m=\u001b[39mlimits, user_api\u001b[38;5;241m=\u001b[39muser_api)\n",
      "File \u001b[1;32mD:\\Users\\Stefano\\anaconda3\\Lib\\site-packages\\threadpoolctl.py:171\u001b[0m, in \u001b[0;36mthreadpool_limits.__init__\u001b[1;34m(self, limits, user_api)\u001b[0m\n\u001b[0;32m    167\u001b[0m \u001b[38;5;28;01mdef\u001b[39;00m \u001b[38;5;21m__init__\u001b[39m(\u001b[38;5;28mself\u001b[39m, limits\u001b[38;5;241m=\u001b[39m\u001b[38;5;28;01mNone\u001b[39;00m, user_api\u001b[38;5;241m=\u001b[39m\u001b[38;5;28;01mNone\u001b[39;00m):\n\u001b[0;32m    168\u001b[0m     \u001b[38;5;28mself\u001b[39m\u001b[38;5;241m.\u001b[39m_limits, \u001b[38;5;28mself\u001b[39m\u001b[38;5;241m.\u001b[39m_user_api, \u001b[38;5;28mself\u001b[39m\u001b[38;5;241m.\u001b[39m_prefixes \u001b[38;5;241m=\u001b[39m \\\n\u001b[0;32m    169\u001b[0m         \u001b[38;5;28mself\u001b[39m\u001b[38;5;241m.\u001b[39m_check_params(limits, user_api)\n\u001b[1;32m--> 171\u001b[0m     \u001b[38;5;28mself\u001b[39m\u001b[38;5;241m.\u001b[39m_original_info \u001b[38;5;241m=\u001b[39m \u001b[38;5;28mself\u001b[39m\u001b[38;5;241m.\u001b[39m_set_threadpool_limits()\n",
      "File \u001b[1;32mD:\\Users\\Stefano\\anaconda3\\Lib\\site-packages\\threadpoolctl.py:268\u001b[0m, in \u001b[0;36mthreadpool_limits._set_threadpool_limits\u001b[1;34m(self)\u001b[0m\n\u001b[0;32m    265\u001b[0m \u001b[38;5;28;01mif\u001b[39;00m \u001b[38;5;28mself\u001b[39m\u001b[38;5;241m.\u001b[39m_limits \u001b[38;5;129;01mis\u001b[39;00m \u001b[38;5;28;01mNone\u001b[39;00m:\n\u001b[0;32m    266\u001b[0m     \u001b[38;5;28;01mreturn\u001b[39;00m \u001b[38;5;28;01mNone\u001b[39;00m\n\u001b[1;32m--> 268\u001b[0m modules \u001b[38;5;241m=\u001b[39m _ThreadpoolInfo(prefixes\u001b[38;5;241m=\u001b[39m\u001b[38;5;28mself\u001b[39m\u001b[38;5;241m.\u001b[39m_prefixes,\n\u001b[0;32m    269\u001b[0m                           user_api\u001b[38;5;241m=\u001b[39m\u001b[38;5;28mself\u001b[39m\u001b[38;5;241m.\u001b[39m_user_api)\n\u001b[0;32m    270\u001b[0m \u001b[38;5;28;01mfor\u001b[39;00m module \u001b[38;5;129;01min\u001b[39;00m modules:\n\u001b[0;32m    271\u001b[0m     \u001b[38;5;66;03m# self._limits is a dict {key: num_threads} where key is either\u001b[39;00m\n\u001b[0;32m    272\u001b[0m     \u001b[38;5;66;03m# a prefix or a user_api. If a module matches both, the limit\u001b[39;00m\n\u001b[0;32m    273\u001b[0m     \u001b[38;5;66;03m# corresponding to the prefix is chosed.\u001b[39;00m\n\u001b[0;32m    274\u001b[0m     \u001b[38;5;28;01mif\u001b[39;00m module\u001b[38;5;241m.\u001b[39mprefix \u001b[38;5;129;01min\u001b[39;00m \u001b[38;5;28mself\u001b[39m\u001b[38;5;241m.\u001b[39m_limits:\n",
      "File \u001b[1;32mD:\\Users\\Stefano\\anaconda3\\Lib\\site-packages\\threadpoolctl.py:340\u001b[0m, in \u001b[0;36m_ThreadpoolInfo.__init__\u001b[1;34m(self, user_api, prefixes, modules)\u001b[0m\n\u001b[0;32m    337\u001b[0m     \u001b[38;5;28mself\u001b[39m\u001b[38;5;241m.\u001b[39muser_api \u001b[38;5;241m=\u001b[39m [] \u001b[38;5;28;01mif\u001b[39;00m user_api \u001b[38;5;129;01mis\u001b[39;00m \u001b[38;5;28;01mNone\u001b[39;00m \u001b[38;5;28;01melse\u001b[39;00m user_api\n\u001b[0;32m    339\u001b[0m     \u001b[38;5;28mself\u001b[39m\u001b[38;5;241m.\u001b[39mmodules \u001b[38;5;241m=\u001b[39m []\n\u001b[1;32m--> 340\u001b[0m     \u001b[38;5;28mself\u001b[39m\u001b[38;5;241m.\u001b[39m_load_modules()\n\u001b[0;32m    341\u001b[0m     \u001b[38;5;28mself\u001b[39m\u001b[38;5;241m.\u001b[39m_warn_if_incompatible_openmp()\n\u001b[0;32m    342\u001b[0m \u001b[38;5;28;01melse\u001b[39;00m:\n",
      "File \u001b[1;32mD:\\Users\\Stefano\\anaconda3\\Lib\\site-packages\\threadpoolctl.py:373\u001b[0m, in \u001b[0;36m_ThreadpoolInfo._load_modules\u001b[1;34m(self)\u001b[0m\n\u001b[0;32m    371\u001b[0m     \u001b[38;5;28mself\u001b[39m\u001b[38;5;241m.\u001b[39m_find_modules_with_dyld()\n\u001b[0;32m    372\u001b[0m \u001b[38;5;28;01melif\u001b[39;00m sys\u001b[38;5;241m.\u001b[39mplatform \u001b[38;5;241m==\u001b[39m \u001b[38;5;124m\"\u001b[39m\u001b[38;5;124mwin32\u001b[39m\u001b[38;5;124m\"\u001b[39m:\n\u001b[1;32m--> 373\u001b[0m     \u001b[38;5;28mself\u001b[39m\u001b[38;5;241m.\u001b[39m_find_modules_with_enum_process_module_ex()\n\u001b[0;32m    374\u001b[0m \u001b[38;5;28;01melse\u001b[39;00m:\n\u001b[0;32m    375\u001b[0m     \u001b[38;5;28mself\u001b[39m\u001b[38;5;241m.\u001b[39m_find_modules_with_dl_iterate_phdr()\n",
      "File \u001b[1;32mD:\\Users\\Stefano\\anaconda3\\Lib\\site-packages\\threadpoolctl.py:485\u001b[0m, in \u001b[0;36m_ThreadpoolInfo._find_modules_with_enum_process_module_ex\u001b[1;34m(self)\u001b[0m\n\u001b[0;32m    482\u001b[0m         filepath \u001b[38;5;241m=\u001b[39m buf\u001b[38;5;241m.\u001b[39mvalue\n\u001b[0;32m    484\u001b[0m         \u001b[38;5;66;03m# Store the module if it is supported and selected\u001b[39;00m\n\u001b[1;32m--> 485\u001b[0m         \u001b[38;5;28mself\u001b[39m\u001b[38;5;241m.\u001b[39m_make_module_from_path(filepath)\n\u001b[0;32m    486\u001b[0m \u001b[38;5;28;01mfinally\u001b[39;00m:\n\u001b[0;32m    487\u001b[0m     kernel_32\u001b[38;5;241m.\u001b[39mCloseHandle(h_process)\n",
      "File \u001b[1;32mD:\\Users\\Stefano\\anaconda3\\Lib\\site-packages\\threadpoolctl.py:515\u001b[0m, in \u001b[0;36m_ThreadpoolInfo._make_module_from_path\u001b[1;34m(self, filepath)\u001b[0m\n\u001b[0;32m    513\u001b[0m \u001b[38;5;28;01mif\u001b[39;00m prefix \u001b[38;5;129;01min\u001b[39;00m \u001b[38;5;28mself\u001b[39m\u001b[38;5;241m.\u001b[39mprefixes \u001b[38;5;129;01mor\u001b[39;00m user_api \u001b[38;5;129;01min\u001b[39;00m \u001b[38;5;28mself\u001b[39m\u001b[38;5;241m.\u001b[39muser_api:\n\u001b[0;32m    514\u001b[0m     module_class \u001b[38;5;241m=\u001b[39m \u001b[38;5;28mglobals\u001b[39m()[module_class]\n\u001b[1;32m--> 515\u001b[0m     module \u001b[38;5;241m=\u001b[39m module_class(filepath, prefix, user_api, internal_api)\n\u001b[0;32m    516\u001b[0m     \u001b[38;5;28mself\u001b[39m\u001b[38;5;241m.\u001b[39mmodules\u001b[38;5;241m.\u001b[39mappend(module)\n",
      "File \u001b[1;32mD:\\Users\\Stefano\\anaconda3\\Lib\\site-packages\\threadpoolctl.py:606\u001b[0m, in \u001b[0;36m_Module.__init__\u001b[1;34m(self, filepath, prefix, user_api, internal_api)\u001b[0m\n\u001b[0;32m    604\u001b[0m \u001b[38;5;28mself\u001b[39m\u001b[38;5;241m.\u001b[39minternal_api \u001b[38;5;241m=\u001b[39m internal_api\n\u001b[0;32m    605\u001b[0m \u001b[38;5;28mself\u001b[39m\u001b[38;5;241m.\u001b[39m_dynlib \u001b[38;5;241m=\u001b[39m ctypes\u001b[38;5;241m.\u001b[39mCDLL(filepath, mode\u001b[38;5;241m=\u001b[39m_RTLD_NOLOAD)\n\u001b[1;32m--> 606\u001b[0m \u001b[38;5;28mself\u001b[39m\u001b[38;5;241m.\u001b[39mversion \u001b[38;5;241m=\u001b[39m \u001b[38;5;28mself\u001b[39m\u001b[38;5;241m.\u001b[39mget_version()\n\u001b[0;32m    607\u001b[0m \u001b[38;5;28mself\u001b[39m\u001b[38;5;241m.\u001b[39mnum_threads \u001b[38;5;241m=\u001b[39m \u001b[38;5;28mself\u001b[39m\u001b[38;5;241m.\u001b[39mget_num_threads()\n\u001b[0;32m    608\u001b[0m \u001b[38;5;28mself\u001b[39m\u001b[38;5;241m.\u001b[39m_get_extra_info()\n",
      "File \u001b[1;32mD:\\Users\\Stefano\\anaconda3\\Lib\\site-packages\\threadpoolctl.py:646\u001b[0m, in \u001b[0;36m_OpenBLASModule.get_version\u001b[1;34m(self)\u001b[0m\n\u001b[0;32m    643\u001b[0m get_config \u001b[38;5;241m=\u001b[39m \u001b[38;5;28mgetattr\u001b[39m(\u001b[38;5;28mself\u001b[39m\u001b[38;5;241m.\u001b[39m_dynlib, \u001b[38;5;124m\"\u001b[39m\u001b[38;5;124mopenblas_get_config\u001b[39m\u001b[38;5;124m\"\u001b[39m,\n\u001b[0;32m    644\u001b[0m                      \u001b[38;5;28;01mlambda\u001b[39;00m: \u001b[38;5;28;01mNone\u001b[39;00m)\n\u001b[0;32m    645\u001b[0m get_config\u001b[38;5;241m.\u001b[39mrestype \u001b[38;5;241m=\u001b[39m ctypes\u001b[38;5;241m.\u001b[39mc_char_p\n\u001b[1;32m--> 646\u001b[0m config \u001b[38;5;241m=\u001b[39m get_config()\u001b[38;5;241m.\u001b[39msplit()\n\u001b[0;32m    647\u001b[0m \u001b[38;5;28;01mif\u001b[39;00m config[\u001b[38;5;241m0\u001b[39m] \u001b[38;5;241m==\u001b[39m \u001b[38;5;124mb\u001b[39m\u001b[38;5;124m\"\u001b[39m\u001b[38;5;124mOpenBLAS\u001b[39m\u001b[38;5;124m\"\u001b[39m:\n\u001b[0;32m    648\u001b[0m     \u001b[38;5;28;01mreturn\u001b[39;00m config[\u001b[38;5;241m1\u001b[39m]\u001b[38;5;241m.\u001b[39mdecode(\u001b[38;5;124m\"\u001b[39m\u001b[38;5;124mutf-8\u001b[39m\u001b[38;5;124m\"\u001b[39m)\n",
      "\u001b[1;31mAttributeError\u001b[0m: 'NoneType' object has no attribute 'split'"
     ]
    },
    {
     "data": {
      "text/plain": [
       "<Figure size 2000x1000 with 0 Axes>"
      ]
     },
     "metadata": {},
     "output_type": "display_data"
    }
   ],
   "source": [
    "# Iterate a loop over the inputs to cluster the transactions into Sales clusters. The goal is to identify 3 groups: high-values, mid-value, low-value.\n",
    "\n",
    "plt.figure(figsize=(20, 10))\n",
    "for i, input in enumerate(all_inputs, 1):\n",
    "\n",
    "  # Select features for clustering\n",
    "  customer_data = df_encoded[input]\n",
    "  scaler = MinMaxScaler()\n",
    "  customer_data_scaled = scaler.fit_transform(customer_data)\n",
    "\n",
    "  # Apply K-Means\n",
    "  kmeans = KMeans(n_clusters=3, random_state=42)\n",
    "  df_encoded['Customer Segment'] = kmeans.fit_predict(customer_data_scaled)\n",
    "\n",
    "  # Visualize Clusters\n",
    "  plt.subplot(2, 3, i)\n",
    "  sns.scatterplot(x = df_encoded['Sales'], y = df_encoded['Quantity'], hue=df_encoded['Customer Segment'], palette=\"Set1\")\n",
    "  plt.title(f'Customer Segmentation based on input{i}')\n",
    "  plt.tight_layout\n",
    "plt.show()"
   ]
  },
  {
   "cell_type": "code",
   "execution_count": null,
   "metadata": {
    "colab": {
     "base_uri": "https://localhost:8080/"
    },
    "id": "XV-nPpo1tail",
    "outputId": "8ac9e9cf-f0a1-47c4-df49-5e88015d4448"
   },
   "outputs": [],
   "source": [
    "# Reiterate the clusterization to determine the mean of the variables across the customer segments\n",
    "\n",
    "for i, input in enumerate(all_inputs, 1):\n",
    "\n",
    "  # Select features for clustering\n",
    "  customer_data = df_encoded[input]\n",
    "  scaler = MinMaxScaler()\n",
    "  customer_data_scaled = scaler.fit_transform(customer_data)\n",
    "\n",
    "  # Apply K-Means\n",
    "  kmeans = KMeans(n_clusters=3, random_state=42)\n",
    "  df_encoded['Customer Segment'] = kmeans.fit_predict(customer_data_scaled)\n",
    "\n",
    "  # Determine the mean values for all customer segments\n",
    "  aggregated_clusters = df_encoded.groupby('Customer Segment')[input].mean().sort_values(by='Sales', ascending=False)\n",
    "  aggregated_clusters.index = ['High-value', 'Mid-value', 'Low-value']\n",
    "  aggregated_clusters.index.name = 'Customer segment'\n",
    "  print(f'{i}) Cluster summary (mean values)')\n",
    "  print(f'{round(aggregated_clusters,2)} \\n')"
   ]
  },
  {
   "cell_type": "markdown",
   "metadata": {
    "id": "cMZsO8djIOI_"
   },
   "source": [
    "**Understanding the result:**\n",
    "\n",
    "\n",
    "\n",
    "*   This clusterization's segmentation is primarily driven by **City and Gender**, as sales factors (Sales, Quantity, Unit price) have little effect. Visually, the segments appear mixed and highly overlapping. The mean on the membership dummy differs from previous findings, showing that both moderate and low-value customers hold membership. Additionally, TimeOfDay_encoded and 'Home and lifestyle' product line do not provide useful segmentation information.\n",
    "\n",
    "*   Here, **customer segments** are **clearly separated** into high, mid, and low-value groups based on Sales and Quantity. The membership loyalty program attracts both low-value and high-value customers, indicating a need for further performance analysis. The time of day remains irrelevant, being steady across clusters.\n",
    "\n",
    "*   Resembling the first clusterization, this analysis includes Unit price. The clusters are well-separated, with **Unit price** positively contributing to their differentiation, as expected due to its correlation with Sales. This setup effectively uses membership to distinguish Mid-value customers from others.\n",
    "\n",
    "*   Replacing the membership dummy with the credit card dummy yields similar broad results. **Credit card** usage concentrates among moderate spenders, while low and high spenders favor other payment methods. However, including this variable slightly reduces the clarity of the High-value group, with a smaller sales difference from the Mid-value cluster compared to the previous summary.\n",
    "\n",
    "*   This summary replaces the credit card dummy with gender. The overall result is consistent, showing clear sales differences across segments. The analysis identifies **high-value and low-value** segments **among female buyers**, and a **moderate-value** segment **for male buyers**.\n",
    "\n",
    "*   This final clusterization relies solely on purchasing metrics: Sales, Quantity, and Unit price. Sales are very different across segments, and an interesting insight is that moderate and high-spending customers buy a similar amount of items, with price being the main factor affecting their sales. Visually, the clusters are perfectly separated with almost no overlapping, due to the strong correlation between Sales with Quantity and Price. However, this combination limits intervention on more actionable variables like those mentioned previously.\n",
    "\n",
    "\n",
    "**Conclusion:**\n",
    "\n",
    "Based on the visualizations, the best combinations of variables for clear visual distinction arise from summaries 3), 4), and 5), as they successfully cluster sales into easily distinguishable segments. Ultimately, the optimal choice should be the combination that includes the membership loyalty (from Summary 3), as it most directly addresses the supermarket's strategic goals concerning its loyalty program and customer relationships.\n",
    "\n",
    "\n",
    "\n",
    "\n"
   ]
  }
 ],
 "metadata": {
  "colab": {
   "provenance": []
  },
  "kernelspec": {
   "display_name": "Python 3 (ipykernel)",
   "language": "python",
   "name": "python3"
  },
  "language_info": {
   "codemirror_mode": {
    "name": "ipython",
    "version": 3
   },
   "file_extension": ".py",
   "mimetype": "text/x-python",
   "name": "python",
   "nbconvert_exporter": "python",
   "pygments_lexer": "ipython3",
   "version": "3.12.4"
  }
 },
 "nbformat": 4,
 "nbformat_minor": 4
}
